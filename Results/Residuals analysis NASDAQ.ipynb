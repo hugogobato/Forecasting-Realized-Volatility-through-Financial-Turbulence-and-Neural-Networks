{
 "cells": [
  {
   "cell_type": "code",
   "execution_count": 27,
   "id": "0e7b199b",
   "metadata": {},
   "outputs": [],
   "source": [
    "import pandas as pd\n",
    "import numpy as np\n",
    "from scipy.stats import anderson"
   ]
  },
  {
   "cell_type": "code",
   "execution_count": 28,
   "id": "93e0b3d5",
   "metadata": {},
   "outputs": [],
   "source": [
    "df = pd.read_excel('NASDAQ results.xlsx',sheet_name='DM test')"
   ]
  },
  {
   "cell_type": "code",
   "execution_count": 29,
   "id": "6dad1f63",
   "metadata": {},
   "outputs": [
    {
     "data": {
      "text/html": [
       "<div>\n",
       "<style scoped>\n",
       "    .dataframe tbody tr th:only-of-type {\n",
       "        vertical-align: middle;\n",
       "    }\n",
       "\n",
       "    .dataframe tbody tr th {\n",
       "        vertical-align: top;\n",
       "    }\n",
       "\n",
       "    .dataframe thead th {\n",
       "        text-align: right;\n",
       "    }\n",
       "</style>\n",
       "<table border=\"1\" class=\"dataframe\">\n",
       "  <thead>\n",
       "    <tr style=\"text-align: right;\">\n",
       "      <th></th>\n",
       "      <th>Actuals</th>\n",
       "      <th>Forecast Model 2</th>\n",
       "      <th>Forecast Model 6</th>\n",
       "      <th>Forecast Model 1</th>\n",
       "      <th>Forecast Model 3</th>\n",
       "      <th>Forecast Model 4</th>\n",
       "      <th>Forecast Model 5</th>\n",
       "    </tr>\n",
       "  </thead>\n",
       "  <tbody>\n",
       "    <tr>\n",
       "      <th>0</th>\n",
       "      <td>0.003954</td>\n",
       "      <td>0.008460</td>\n",
       "      <td>0.008640</td>\n",
       "      <td>0.007532</td>\n",
       "      <td>0.006188</td>\n",
       "      <td>0.008271</td>\n",
       "      <td>0.008221</td>\n",
       "    </tr>\n",
       "    <tr>\n",
       "      <th>1</th>\n",
       "      <td>0.002441</td>\n",
       "      <td>0.007294</td>\n",
       "      <td>0.008426</td>\n",
       "      <td>0.007415</td>\n",
       "      <td>0.005810</td>\n",
       "      <td>0.005968</td>\n",
       "      <td>0.006123</td>\n",
       "    </tr>\n",
       "    <tr>\n",
       "      <th>2</th>\n",
       "      <td>0.004960</td>\n",
       "      <td>0.008073</td>\n",
       "      <td>0.007586</td>\n",
       "      <td>0.006802</td>\n",
       "      <td>0.005207</td>\n",
       "      <td>0.002897</td>\n",
       "      <td>0.002986</td>\n",
       "    </tr>\n",
       "    <tr>\n",
       "      <th>3</th>\n",
       "      <td>0.002179</td>\n",
       "      <td>0.007715</td>\n",
       "      <td>0.007415</td>\n",
       "      <td>0.006755</td>\n",
       "      <td>0.005261</td>\n",
       "      <td>0.007048</td>\n",
       "      <td>0.006969</td>\n",
       "    </tr>\n",
       "    <tr>\n",
       "      <th>4</th>\n",
       "      <td>0.006606</td>\n",
       "      <td>0.008282</td>\n",
       "      <td>0.007246</td>\n",
       "      <td>0.006537</td>\n",
       "      <td>0.005318</td>\n",
       "      <td>0.005486</td>\n",
       "      <td>0.005515</td>\n",
       "    </tr>\n",
       "  </tbody>\n",
       "</table>\n",
       "</div>"
      ],
      "text/plain": [
       "    Actuals  Forecast Model 2  Forecast Model 6  Forecast Model 1  \\\n",
       "0  0.003954          0.008460          0.008640          0.007532   \n",
       "1  0.002441          0.007294          0.008426          0.007415   \n",
       "2  0.004960          0.008073          0.007586          0.006802   \n",
       "3  0.002179          0.007715          0.007415          0.006755   \n",
       "4  0.006606          0.008282          0.007246          0.006537   \n",
       "\n",
       "   Forecast Model 3  Forecast Model 4  Forecast Model 5  \n",
       "0          0.006188          0.008271          0.008221  \n",
       "1          0.005810          0.005968          0.006123  \n",
       "2          0.005207          0.002897          0.002986  \n",
       "3          0.005261          0.007048          0.006969  \n",
       "4          0.005318          0.005486          0.005515  "
      ]
     },
     "execution_count": 29,
     "metadata": {},
     "output_type": "execute_result"
    }
   ],
   "source": [
    "df.head()"
   ]
  },
  {
   "cell_type": "markdown",
   "id": "1a7096ba",
   "metadata": {},
   "source": [
    "# Normality Test (Anderson-Darling test)"
   ]
  },
  {
   "cell_type": "code",
   "execution_count": 30,
   "id": "ede66c46",
   "metadata": {},
   "outputs": [],
   "source": [
    "Model_1_residuals=df[\"Actuals\"]-df[\"Forecast Model 1\"]\n",
    "Model_2_residuals=df[\"Actuals\"]-df[\"Forecast Model 2\"]\n",
    "Model_3_residuals=df[\"Actuals\"]-df[\"Forecast Model 3\"]\n",
    "Model_4_residuals=df[\"Actuals\"]-df[\"Forecast Model 4\"]\n",
    "Model_5_residuals=df[\"Actuals\"]-df[\"Forecast Model 5\"]\n",
    "Model_6_residuals=df[\"Actuals\"]-df[\"Forecast Model 6\"]"
   ]
  },
  {
   "cell_type": "code",
   "execution_count": 31,
   "id": "70d29d25",
   "metadata": {},
   "outputs": [
    {
     "data": {
      "text/plain": [
       "AndersonResult(statistic=2.6068371576394327, critical_values=array([0.567, 0.646, 0.775, 0.904, 1.075]), significance_level=array([15. , 10. ,  5. ,  2.5,  1. ]))"
      ]
     },
     "execution_count": 31,
     "metadata": {},
     "output_type": "execute_result"
    }
   ],
   "source": [
    "anderson(Model_1_residuals)"
   ]
  },
  {
   "cell_type": "code",
   "execution_count": 32,
   "id": "1cfa1502",
   "metadata": {},
   "outputs": [
    {
     "data": {
      "text/plain": [
       "AndersonResult(statistic=2.479379839028695, critical_values=array([0.567, 0.646, 0.775, 0.904, 1.075]), significance_level=array([15. , 10. ,  5. ,  2.5,  1. ]))"
      ]
     },
     "execution_count": 32,
     "metadata": {},
     "output_type": "execute_result"
    }
   ],
   "source": [
    "anderson(Model_2_residuals)"
   ]
  },
  {
   "cell_type": "code",
   "execution_count": 33,
   "id": "e947644d",
   "metadata": {},
   "outputs": [
    {
     "data": {
      "text/plain": [
       "AndersonResult(statistic=4.207713771526642, critical_values=array([0.567, 0.646, 0.775, 0.904, 1.075]), significance_level=array([15. , 10. ,  5. ,  2.5,  1. ]))"
      ]
     },
     "execution_count": 33,
     "metadata": {},
     "output_type": "execute_result"
    }
   ],
   "source": [
    "anderson(Model_3_residuals)"
   ]
  },
  {
   "cell_type": "code",
   "execution_count": 34,
   "id": "67425554",
   "metadata": {},
   "outputs": [
    {
     "data": {
      "text/plain": [
       "AndersonResult(statistic=1.5105811308246757, critical_values=array([0.567, 0.646, 0.775, 0.904, 1.075]), significance_level=array([15. , 10. ,  5. ,  2.5,  1. ]))"
      ]
     },
     "execution_count": 34,
     "metadata": {},
     "output_type": "execute_result"
    }
   ],
   "source": [
    "anderson(Model_4_residuals)"
   ]
  },
  {
   "cell_type": "code",
   "execution_count": 35,
   "id": "beae93c0",
   "metadata": {},
   "outputs": [
    {
     "data": {
      "text/plain": [
       "AndersonResult(statistic=1.915834398481735, critical_values=array([0.567, 0.646, 0.775, 0.904, 1.075]), significance_level=array([15. , 10. ,  5. ,  2.5,  1. ]))"
      ]
     },
     "execution_count": 35,
     "metadata": {},
     "output_type": "execute_result"
    }
   ],
   "source": [
    "anderson(Model_5_residuals)"
   ]
  },
  {
   "cell_type": "code",
   "execution_count": 36,
   "id": "fc4965b2",
   "metadata": {},
   "outputs": [
    {
     "data": {
      "text/plain": [
       "AndersonResult(statistic=2.4895353853514735, critical_values=array([0.567, 0.646, 0.775, 0.904, 1.075]), significance_level=array([15. , 10. ,  5. ,  2.5,  1. ]))"
      ]
     },
     "execution_count": 36,
     "metadata": {},
     "output_type": "execute_result"
    }
   ],
   "source": [
    "anderson(Model_6_residuals)"
   ]
  },
  {
   "cell_type": "markdown",
   "id": "7074f127",
   "metadata": {},
   "source": [
    "# Stationarity Test (Augmented Dickey Fuller Test)"
   ]
  },
  {
   "cell_type": "code",
   "execution_count": 37,
   "id": "75ed277c",
   "metadata": {},
   "outputs": [],
   "source": [
    "from statsmodels.tsa.stattools import adfuller"
   ]
  },
  {
   "cell_type": "code",
   "execution_count": 38,
   "id": "213d1dfa",
   "metadata": {},
   "outputs": [
    {
     "data": {
      "text/plain": [
       "(-8.026977822173885,\n",
       " 2.005150253364242e-12,\n",
       " 1,\n",
       " 250,\n",
       " {'1%': -3.456780859712, '5%': -2.8731715065600003, '10%': -2.572968544},\n",
       " -1852.8771698169562)"
      ]
     },
     "execution_count": 38,
     "metadata": {},
     "output_type": "execute_result"
    }
   ],
   "source": [
    "adfuller(Model_1_residuals)"
   ]
  },
  {
   "cell_type": "code",
   "execution_count": 39,
   "id": "3e1b547c",
   "metadata": {},
   "outputs": [
    {
     "data": {
      "text/plain": [
       "(-7.544865386443913,\n",
       " 3.303946159196825e-11,\n",
       " 1,\n",
       " 250,\n",
       " {'1%': -3.456780859712, '5%': -2.8731715065600003, '10%': -2.572968544},\n",
       " -2064.1178903684277)"
      ]
     },
     "execution_count": 39,
     "metadata": {},
     "output_type": "execute_result"
    }
   ],
   "source": [
    "adfuller(Model_2_residuals)"
   ]
  },
  {
   "cell_type": "code",
   "execution_count": 40,
   "id": "418afb96",
   "metadata": {},
   "outputs": [
    {
     "data": {
      "text/plain": [
       "(-8.902330821802797,\n",
       " 1.1623176189662014e-14,\n",
       " 1,\n",
       " 250,\n",
       " {'1%': -3.456780859712, '5%': -2.8731715065600003, '10%': -2.572968544},\n",
       " -1882.2609762103107)"
      ]
     },
     "execution_count": 40,
     "metadata": {},
     "output_type": "execute_result"
    }
   ],
   "source": [
    "adfuller(Model_3_residuals)"
   ]
  },
  {
   "cell_type": "code",
   "execution_count": 41,
   "id": "1525b5ee",
   "metadata": {},
   "outputs": [
    {
     "data": {
      "text/plain": [
       "(-14.395850385856484,\n",
       " 8.670380065552874e-27,\n",
       " 1,\n",
       " 250,\n",
       " {'1%': -3.456780859712, '5%': -2.8731715065600003, '10%': -2.572968544},\n",
       " -1722.0202485313907)"
      ]
     },
     "execution_count": 41,
     "metadata": {},
     "output_type": "execute_result"
    }
   ],
   "source": [
    "adfuller(Model_4_residuals)"
   ]
  },
  {
   "cell_type": "code",
   "execution_count": 42,
   "id": "11de259a",
   "metadata": {},
   "outputs": [
    {
     "data": {
      "text/plain": [
       "(-11.838016363339337,\n",
       " 7.707856488175021e-22,\n",
       " 2,\n",
       " 249,\n",
       " {'1%': -3.4568881317725864,\n",
       "  '5%': -2.8732185133016057,\n",
       "  '10%': -2.5729936189738876},\n",
       " -1709.0202729988769)"
      ]
     },
     "execution_count": 42,
     "metadata": {},
     "output_type": "execute_result"
    }
   ],
   "source": [
    "adfuller(Model_5_residuals)"
   ]
  },
  {
   "cell_type": "code",
   "execution_count": 43,
   "id": "f6c1b2d6",
   "metadata": {
    "scrolled": true
   },
   "outputs": [
    {
     "data": {
      "text/plain": [
       "(-5.8702852493844695,\n",
       " 3.252362098619559e-07,\n",
       " 5,\n",
       " 246,\n",
       " {'1%': -3.457215237265747,\n",
       "  '5%': -2.873361841566324,\n",
       "  '10%': -2.5730700760129555},\n",
       " -1847.7288336241254)"
      ]
     },
     "execution_count": 43,
     "metadata": {},
     "output_type": "execute_result"
    }
   ],
   "source": [
    "adfuller(Model_6_residuals)"
   ]
  },
  {
   "cell_type": "markdown",
   "id": "6049648b",
   "metadata": {},
   "source": [
    "# Autocorrelation Test (Breusch Godfrey test)"
   ]
  },
  {
   "cell_type": "code",
   "execution_count": 44,
   "id": "5cf5029d",
   "metadata": {},
   "outputs": [
    {
     "name": "stdout",
     "output_type": "stream",
     "text": [
      "(249.75032322700815, 6.218569581333805e-52, 26577.674842342734, 5.5402346711279484e-291)\n"
     ]
    },
    {
     "name": "stderr",
     "output_type": "stream",
     "text": [
      "C:\\Users\\GobatoH\\Anaconda3\\lib\\site-packages\\statsmodels\\base\\model.py:1871: ValueWarning: covariance of constraints does not have full rank. The number of constraints is 5, but rank is 2\n",
      "  warnings.warn('covariance of constraints does not have full '\n"
     ]
    }
   ],
   "source": [
    "import statsmodels.api as sm\n",
    "y = Model_1_residuals\n",
    "x = Model_1_residuals[:len(Model_1_residuals)-1]\n",
    "for i in range(len(y)-1):\n",
    "    y[i]=y[i+1]\n",
    "y=y[:len(Model_1_residuals)-1]\n",
    "x = sm.add_constant(x)\n",
    "model = sm.OLS(y, x).fit()\n",
    "import statsmodels.stats.diagnostic as dg\n",
    "print(dg.acorr_breusch_godfrey(model, nlags=5))"
   ]
  },
  {
   "cell_type": "code",
   "execution_count": 45,
   "id": "66e91410",
   "metadata": {},
   "outputs": [
    {
     "name": "stdout",
     "output_type": "stream",
     "text": [
      "(231.4914390428584, 5.1228291565793806e-48, 3030.3751272521913, 1.6799779062129476e-175)\n"
     ]
    },
    {
     "name": "stderr",
     "output_type": "stream",
     "text": [
      "C:\\Users\\GobatoH\\Anaconda3\\lib\\site-packages\\statsmodels\\base\\model.py:1871: ValueWarning: covariance of constraints does not have full rank. The number of constraints is 5, but rank is 2\n",
      "  warnings.warn('covariance of constraints does not have full '\n"
     ]
    }
   ],
   "source": [
    "import statsmodels.api as sm\n",
    "y = Model_2_residuals\n",
    "x = Model_2_residuals[:len(Model_1_residuals)-1]\n",
    "for i in range(len(y)-1):\n",
    "    y[i]=y[i+1]\n",
    "y=y[:len(Model_1_residuals)-1]\n",
    "x = sm.add_constant(x)\n",
    "model = sm.OLS(y, x).fit()\n",
    "import statsmodels.stats.diagnostic as dg\n",
    "print(dg.acorr_breusch_godfrey(model, nlags=5))"
   ]
  },
  {
   "cell_type": "code",
   "execution_count": 46,
   "id": "4993dd4e",
   "metadata": {},
   "outputs": [
    {
     "name": "stdout",
     "output_type": "stream",
     "text": [
      "(238.42848731071476, 1.6680948729266815e-49, 2490.86058020778, 2.322219897366512e-165)\n"
     ]
    },
    {
     "name": "stderr",
     "output_type": "stream",
     "text": [
      "C:\\Users\\GobatoH\\Anaconda3\\lib\\site-packages\\statsmodels\\base\\model.py:1871: ValueWarning: covariance of constraints does not have full rank. The number of constraints is 5, but rank is 2\n",
      "  warnings.warn('covariance of constraints does not have full '\n"
     ]
    }
   ],
   "source": [
    "import statsmodels.api as sm\n",
    "y = Model_3_residuals\n",
    "x = Model_3_residuals[:len(Model_1_residuals)-1]\n",
    "for i in range(len(y)-1):\n",
    "    y[i]=y[i+1]\n",
    "y=y[:len(Model_1_residuals)-1]\n",
    "x = sm.add_constant(x)\n",
    "model = sm.OLS(y, x).fit()\n",
    "import statsmodels.stats.diagnostic as dg\n",
    "print(dg.acorr_breusch_godfrey(model, nlags=5))"
   ]
  },
  {
   "cell_type": "code",
   "execution_count": 47,
   "id": "5b3ec7fb",
   "metadata": {},
   "outputs": [
    {
     "name": "stdout",
     "output_type": "stream",
     "text": [
      "(224.68997294008585, 1.4695088949008958e-46, 1080.766008188948, 1.793750986123607e-123)\n"
     ]
    },
    {
     "name": "stderr",
     "output_type": "stream",
     "text": [
      "C:\\Users\\GobatoH\\Anaconda3\\lib\\site-packages\\statsmodels\\base\\model.py:1871: ValueWarning: covariance of constraints does not have full rank. The number of constraints is 5, but rank is 2\n",
      "  warnings.warn('covariance of constraints does not have full '\n"
     ]
    }
   ],
   "source": [
    "import statsmodels.api as sm\n",
    "y = Model_4_residuals\n",
    "x = Model_4_residuals[:len(Model_1_residuals)-1]\n",
    "for i in range(len(y)-1):\n",
    "    y[i]=y[i+1]\n",
    "y=y[:len(Model_1_residuals)-1]\n",
    "x = sm.add_constant(x)\n",
    "model = sm.OLS(y, x).fit()\n",
    "import statsmodels.stats.diagnostic as dg\n",
    "print(dg.acorr_breusch_godfrey(model, nlags=5))"
   ]
  },
  {
   "cell_type": "code",
   "execution_count": 48,
   "id": "1212d74b",
   "metadata": {},
   "outputs": [
    {
     "name": "stdout",
     "output_type": "stream",
     "text": [
      "(235.71030435502416, 6.3835176129020304e-49, 2751.3746411621105, 1.7050036591794093e-170)\n"
     ]
    },
    {
     "name": "stderr",
     "output_type": "stream",
     "text": [
      "C:\\Users\\GobatoH\\Anaconda3\\lib\\site-packages\\statsmodels\\base\\model.py:1871: ValueWarning: covariance of constraints does not have full rank. The number of constraints is 5, but rank is 2\n",
      "  warnings.warn('covariance of constraints does not have full '\n"
     ]
    }
   ],
   "source": [
    "import statsmodels.api as sm\n",
    "y = Model_5_residuals\n",
    "x = Model_5_residuals[:len(Model_1_residuals)-1]\n",
    "for i in range(len(y)-1):\n",
    "    y[i]=y[i+1]\n",
    "y=y[:len(Model_1_residuals)-1]\n",
    "x = sm.add_constant(x)\n",
    "model = sm.OLS(y, x).fit()\n",
    "import statsmodels.stats.diagnostic as dg\n",
    "print(dg.acorr_breusch_godfrey(model, nlags=5))"
   ]
  },
  {
   "cell_type": "code",
   "execution_count": 49,
   "id": "1c5b44e6",
   "metadata": {},
   "outputs": [
    {
     "name": "stdout",
     "output_type": "stream",
     "text": [
      "(60.71059328359431, 8.666750416161698e-12, 1568.1168624993006, 7.816830389973868e-142)\n"
     ]
    },
    {
     "name": "stderr",
     "output_type": "stream",
     "text": [
      "C:\\Users\\GobatoH\\Anaconda3\\lib\\site-packages\\statsmodels\\base\\model.py:1871: ValueWarning: covariance of constraints does not have full rank. The number of constraints is 5, but rank is 2\n",
      "  warnings.warn('covariance of constraints does not have full '\n"
     ]
    }
   ],
   "source": [
    "import statsmodels.api as sm\n",
    "y = Model_6_residuals\n",
    "x = Model_6_residuals[:len(Model_1_residuals)-1]\n",
    "for i in range(len(y)-1):\n",
    "    y[i]=y[i+1]\n",
    "y=y[:len(Model_1_residuals)-1]\n",
    "x = sm.add_constant(x)\n",
    "model = sm.OLS(y, x).fit()\n",
    "import statsmodels.stats.diagnostic as dg\n",
    "print(dg.acorr_breusch_godfrey(model, nlags=5))"
   ]
  },
  {
   "cell_type": "markdown",
   "id": "c6a1b3c7",
   "metadata": {},
   "source": [
    "# Diebold-Mariano Test"
   ]
  },
  {
   "cell_type": "code",
   "execution_count": 11,
   "id": "66c7c9ac",
   "metadata": {},
   "outputs": [],
   "source": [
    "def dm_test(actual_lst, pred1_lst, pred2_lst, h = 1, crit=\"MSE\", power = 2):\n",
    "    # Routine for checking errors\n",
    "    def error_check():\n",
    "        rt = 0\n",
    "        msg = \"\"\n",
    "        # Check if h is an integer\n",
    "        if (not isinstance(h, int)):\n",
    "            rt = -1\n",
    "            msg = \"The type of the number of steps ahead (h) is not an integer.\"\n",
    "            return (rt,msg)\n",
    "        # Check the range of h\n",
    "        if (h < 1):\n",
    "            rt = -1\n",
    "            msg = \"The number of steps ahead (h) is not large enough.\"\n",
    "            return (rt,msg)\n",
    "        len_act = len(actual_lst)\n",
    "        len_p1  = len(pred1_lst)\n",
    "        len_p2  = len(pred2_lst)\n",
    "        # Check if lengths of actual values and predicted values are equal\n",
    "        if (len_act != len_p1 or len_p1 != len_p2 or len_act != len_p2):\n",
    "            rt = -1\n",
    "            msg = \"Lengths of actual_lst, pred1_lst and pred2_lst do not match.\"\n",
    "            return (rt,msg)\n",
    "        # Check range of h\n",
    "        if (h >= len_act):\n",
    "            rt = -1\n",
    "            msg = \"The number of steps ahead is too large.\"\n",
    "            return (rt,msg)\n",
    "        # Check if criterion supported\n",
    "        if (crit != \"MSE\" and crit != \"MAPE\" and crit != \"MAD\" and crit != \"poly\"):\n",
    "            rt = -1\n",
    "            msg = \"The criterion is not supported.\"\n",
    "            return (rt,msg)  \n",
    "        # Check if every value of the input lists are numerical values\n",
    "        from re import compile as re_compile\n",
    "        comp = re_compile(\"^\\d+?\\.\\d+?$\")  \n",
    "        def compiled_regex(s):\n",
    "            \"\"\" Returns True is string is a number. \"\"\"\n",
    "            if comp.match(s) is None:\n",
    "                return s.isdigit()\n",
    "            return True\n",
    "        for actual, pred1, pred2 in zip(actual_lst, pred1_lst, pred2_lst):\n",
    "            is_actual_ok = compiled_regex(str(abs(actual)))\n",
    "            is_pred1_ok = compiled_regex(str(abs(pred1)))\n",
    "            is_pred2_ok = compiled_regex(str(abs(pred2)))\n",
    "            if (not (is_actual_ok and is_pred1_ok and is_pred2_ok)):  \n",
    "                msg = \"An element in the actual_lst, pred1_lst or pred2_lst is not numeric.\"\n",
    "                rt = -1\n",
    "                return (rt,msg)\n",
    "        return (rt,msg)\n",
    "    \n",
    "    # Error check\n",
    "    error_code = error_check()\n",
    "    # Raise error if cannot pass error check\n",
    "    if (error_code[0] == -1):\n",
    "        raise SyntaxError(error_code[1])\n",
    "        return\n",
    "    # Import libraries\n",
    "    from scipy.stats import t\n",
    "    import collections\n",
    "    import pandas as pd\n",
    "    import numpy as np\n",
    "    \n",
    "    # Initialise lists\n",
    "    e1_lst = []\n",
    "    e2_lst = []\n",
    "    d_lst  = []\n",
    "    \n",
    "    # convert every value of the lists into real values\n",
    "    actual_lst = pd.Series(actual_lst).apply(lambda x: float(x)).tolist()\n",
    "    pred1_lst = pd.Series(pred1_lst).apply(lambda x: float(x)).tolist()\n",
    "    pred2_lst = pd.Series(pred2_lst).apply(lambda x: float(x)).tolist()\n",
    "    \n",
    "    # Length of lists (as real numbers)\n",
    "    T = float(len(actual_lst))\n",
    "    \n",
    "    # construct d according to crit\n",
    "    if (crit == \"MSE\"):\n",
    "        for actual,p1,p2 in zip(actual_lst,pred1_lst,pred2_lst):\n",
    "            e1_lst.append((actual - p1)**2)\n",
    "            e2_lst.append((actual - p2)**2)\n",
    "        for e1, e2 in zip(e1_lst, e2_lst):\n",
    "            d_lst.append(e1 - e2)\n",
    "    elif (crit == \"MAD\"):\n",
    "        for actual,p1,p2 in zip(actual_lst,pred1_lst,pred2_lst):\n",
    "            e1_lst.append(abs(actual - p1))\n",
    "            e2_lst.append(abs(actual - p2))\n",
    "        for e1, e2 in zip(e1_lst, e2_lst):\n",
    "            d_lst.append(e1 - e2)\n",
    "    elif (crit == \"MAPE\"):\n",
    "        for actual,p1,p2 in zip(actual_lst,pred1_lst,pred2_lst):\n",
    "            e1_lst.append(abs((actual - p1)/actual))\n",
    "            e2_lst.append(abs((actual - p2)/actual))\n",
    "        for e1, e2 in zip(e1_lst, e2_lst):\n",
    "            d_lst.append(e1 - e2)\n",
    "    elif (crit == \"poly\"):\n",
    "        for actual,p1,p2 in zip(actual_lst,pred1_lst,pred2_lst):\n",
    "            e1_lst.append(((actual - p1))**(power))\n",
    "            e2_lst.append(((actual - p2))**(power))\n",
    "        for e1, e2 in zip(e1_lst, e2_lst):\n",
    "            d_lst.append(e1 - e2)    \n",
    "    \n",
    "    # Mean of d        \n",
    "    mean_d = pd.Series(d_lst).mean()\n",
    "    \n",
    "    # Find autocovariance and construct DM test statistics\n",
    "    def autocovariance(Xi, N, k, Xs):\n",
    "        autoCov = 0\n",
    "        T = float(N)\n",
    "        for i in np.arange(0, N-k):\n",
    "              autoCov += ((Xi[i+k])-Xs)*(Xi[i]-Xs)\n",
    "        return (1/(T))*autoCov\n",
    "    gamma = []\n",
    "    for lag in range(0,h):\n",
    "        gamma.append(autocovariance(d_lst,len(d_lst),lag,mean_d)) # 0, 1, 2\n",
    "    V_d = (gamma[0] + 2*sum(gamma[1:]))/T\n",
    "    DM_stat=V_d**(-0.5)*mean_d\n",
    "    harvey_adj=((T+1-2*h+h*(h-1)/T)/T)**(0.5)\n",
    "    DM_stat = harvey_adj*DM_stat\n",
    "    # Find p-value\n",
    "    p_value = 2*t.cdf(-abs(DM_stat), df = T - 1)\n",
    "    \n",
    "    # Construct named tuple for return\n",
    "    dm_return = collections.namedtuple('dm_return', 'DM p_value')\n",
    "    \n",
    "    rt = dm_return(DM = DM_stat, p_value = p_value)\n",
    "    \n",
    "    return rt"
   ]
  },
  {
   "cell_type": "code",
   "execution_count": 12,
   "id": "7896b794",
   "metadata": {},
   "outputs": [
    {
     "data": {
      "text/plain": [
       "dm_return(DM=5.037914270191488, p_value=9.004321912634821e-07)"
      ]
     },
     "execution_count": 12,
     "metadata": {},
     "output_type": "execute_result"
    }
   ],
   "source": [
    "dm_test(df[\"Actuals\"], df[\"Forecast Model 1\"], df[\"Forecast Model 2\"])"
   ]
  },
  {
   "cell_type": "code",
   "execution_count": 13,
   "id": "41a6f50b",
   "metadata": {},
   "outputs": [
    {
     "data": {
      "text/plain": [
       "dm_return(DM=6.797714944777655, p_value=7.704681913053878e-11)"
      ]
     },
     "execution_count": 13,
     "metadata": {},
     "output_type": "execute_result"
    }
   ],
   "source": [
    "dm_test(df[\"Actuals\"], df[\"Forecast Model 1\"], df[\"Forecast Model 3\"])"
   ]
  },
  {
   "cell_type": "code",
   "execution_count": 14,
   "id": "6743fbab",
   "metadata": {},
   "outputs": [
    {
     "data": {
      "text/plain": [
       "dm_return(DM=-5.600022823422476, p_value=5.6142010248743015e-08)"
      ]
     },
     "execution_count": 14,
     "metadata": {},
     "output_type": "execute_result"
    }
   ],
   "source": [
    "dm_test(df[\"Actuals\"], df[\"Forecast Model 1\"], df[\"Forecast Model 4\"])"
   ]
  },
  {
   "cell_type": "code",
   "execution_count": 15,
   "id": "d21f7953",
   "metadata": {},
   "outputs": [
    {
     "data": {
      "text/plain": [
       "dm_return(DM=-5.735615378476915, p_value=2.7845169232573876e-08)"
      ]
     },
     "execution_count": 15,
     "metadata": {},
     "output_type": "execute_result"
    }
   ],
   "source": [
    "dm_test(df[\"Actuals\"], df[\"Forecast Model 1\"], df[\"Forecast Model 5\"])"
   ]
  },
  {
   "cell_type": "code",
   "execution_count": 16,
   "id": "d7c0df60",
   "metadata": {
    "scrolled": true
   },
   "outputs": [
    {
     "data": {
      "text/plain": [
       "dm_return(DM=-9.911445096478719, p_value=9.339274056002338e-20)"
      ]
     },
     "execution_count": 16,
     "metadata": {},
     "output_type": "execute_result"
    }
   ],
   "source": [
    "dm_test(df[\"Actuals\"], df[\"Forecast Model 1\"], df[\"Forecast Model 6\"])"
   ]
  },
  {
   "cell_type": "code",
   "execution_count": 17,
   "id": "0aa6b574",
   "metadata": {},
   "outputs": [
    {
     "data": {
      "text/plain": [
       "dm_return(DM=0.1089015077736549, p_value=0.913367620102605)"
      ]
     },
     "execution_count": 17,
     "metadata": {},
     "output_type": "execute_result"
    }
   ],
   "source": [
    "dm_test(df[\"Actuals\"], df[\"Forecast Model 2\"], df[\"Forecast Model 3\"])"
   ]
  },
  {
   "cell_type": "code",
   "execution_count": 18,
   "id": "190cd112",
   "metadata": {},
   "outputs": [
    {
     "data": {
      "text/plain": [
       "dm_return(DM=-6.888921195686132, p_value=4.5046063712557605e-11)"
      ]
     },
     "execution_count": 18,
     "metadata": {},
     "output_type": "execute_result"
    }
   ],
   "source": [
    "dm_test(df[\"Actuals\"], df[\"Forecast Model 2\"], df[\"Forecast Model 3\"])"
   ]
  },
  {
   "cell_type": "code",
   "execution_count": 19,
   "id": "16b5c01a",
   "metadata": {},
   "outputs": [
    {
     "data": {
      "text/plain": [
       "dm_return(DM=-6.944842601809351, p_value=3.234062642116004e-11)"
      ]
     },
     "execution_count": 19,
     "metadata": {},
     "output_type": "execute_result"
    }
   ],
   "source": [
    "dm_test(df[\"Actuals\"], df[\"Forecast Model 2\"], df[\"Forecast Model 5\"])"
   ]
  },
  {
   "cell_type": "code",
   "execution_count": 20,
   "id": "885389e0",
   "metadata": {},
   "outputs": [
    {
     "data": {
      "text/plain": [
       "dm_return(DM=-9.03087286179485, p_value=4.6414480607021305e-17)"
      ]
     },
     "execution_count": 20,
     "metadata": {},
     "output_type": "execute_result"
    }
   ],
   "source": [
    "dm_test(df[\"Actuals\"], df[\"Forecast Model 2\"], df[\"Forecast Model 6\"])"
   ]
  },
  {
   "cell_type": "code",
   "execution_count": 21,
   "id": "c41b6493",
   "metadata": {},
   "outputs": [
    {
     "data": {
      "text/plain": [
       "dm_return(DM=-6.832026799656936, p_value=6.299399194863096e-11)"
      ]
     },
     "execution_count": 21,
     "metadata": {},
     "output_type": "execute_result"
    }
   ],
   "source": [
    "dm_test(df[\"Actuals\"], df[\"Forecast Model 3\"], df[\"Forecast Model 4\"])"
   ]
  },
  {
   "cell_type": "code",
   "execution_count": 22,
   "id": "9afd53ff",
   "metadata": {},
   "outputs": [
    {
     "data": {
      "text/plain": [
       "dm_return(DM=-6.816819128402869, p_value=6.888051307368476e-11)"
      ]
     },
     "execution_count": 22,
     "metadata": {},
     "output_type": "execute_result"
    }
   ],
   "source": [
    "dm_test(df[\"Actuals\"], df[\"Forecast Model 3\"], df[\"Forecast Model 5\"])"
   ]
  },
  {
   "cell_type": "code",
   "execution_count": 23,
   "id": "73cf60f6",
   "metadata": {},
   "outputs": [
    {
     "data": {
      "text/plain": [
       "dm_return(DM=-9.023819887590518, p_value=4.872770380791351e-17)"
      ]
     },
     "execution_count": 23,
     "metadata": {},
     "output_type": "execute_result"
    }
   ],
   "source": [
    "dm_test(df[\"Actuals\"], df[\"Forecast Model 3\"], df[\"Forecast Model 6\"])"
   ]
  },
  {
   "cell_type": "code",
   "execution_count": 24,
   "id": "9dd98a53",
   "metadata": {},
   "outputs": [
    {
     "data": {
      "text/plain": [
       "dm_return(DM=-2.7935964025738818, p_value=0.005614464395885655)"
      ]
     },
     "execution_count": 24,
     "metadata": {},
     "output_type": "execute_result"
    }
   ],
   "source": [
    "dm_test(df[\"Actuals\"], df[\"Forecast Model 4\"], df[\"Forecast Model 5\"])"
   ]
  },
  {
   "cell_type": "code",
   "execution_count": 25,
   "id": "e94590a6",
   "metadata": {},
   "outputs": [
    {
     "data": {
      "text/plain": [
       "dm_return(DM=4.3195530120909, p_value=2.2536055017494977e-05)"
      ]
     },
     "execution_count": 25,
     "metadata": {},
     "output_type": "execute_result"
    }
   ],
   "source": [
    "dm_test(df[\"Actuals\"], df[\"Forecast Model 4\"], df[\"Forecast Model 6\"])"
   ]
  },
  {
   "cell_type": "code",
   "execution_count": 26,
   "id": "bc97af31",
   "metadata": {},
   "outputs": [
    {
     "data": {
      "text/plain": [
       "dm_return(DM=4.676976027864316, p_value=4.760000004088203e-06)"
      ]
     },
     "execution_count": 26,
     "metadata": {},
     "output_type": "execute_result"
    }
   ],
   "source": [
    "dm_test(df[\"Actuals\"], df[\"Forecast Model 5\"], df[\"Forecast Model 6\"])"
   ]
  },
  {
   "cell_type": "code",
   "execution_count": null,
   "id": "610ace7a",
   "metadata": {},
   "outputs": [],
   "source": []
  }
 ],
 "metadata": {
  "kernelspec": {
   "display_name": "Python 3 (ipykernel)",
   "language": "python",
   "name": "python3"
  },
  "language_info": {
   "codemirror_mode": {
    "name": "ipython",
    "version": 3
   },
   "file_extension": ".py",
   "mimetype": "text/x-python",
   "name": "python",
   "nbconvert_exporter": "python",
   "pygments_lexer": "ipython3",
   "version": "3.9.12"
  }
 },
 "nbformat": 4,
 "nbformat_minor": 5
}
