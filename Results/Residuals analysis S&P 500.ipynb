{
 "cells": [
  {
   "cell_type": "code",
   "execution_count": 2,
   "id": "0e7b199b",
   "metadata": {},
   "outputs": [],
   "source": [
    "import pandas as pd\n",
    "import numpy as np\n",
    "from scipy.stats import anderson"
   ]
  },
  {
   "cell_type": "code",
   "execution_count": 3,
   "id": "93e0b3d5",
   "metadata": {},
   "outputs": [],
   "source": [
    "df = pd.read_excel('S&P 500 results.xlsx',sheet_name='DM test')"
   ]
  },
  {
   "cell_type": "code",
   "execution_count": 4,
   "id": "6dad1f63",
   "metadata": {},
   "outputs": [
    {
     "data": {
      "text/html": [
       "<div>\n",
       "<style scoped>\n",
       "    .dataframe tbody tr th:only-of-type {\n",
       "        vertical-align: middle;\n",
       "    }\n",
       "\n",
       "    .dataframe tbody tr th {\n",
       "        vertical-align: top;\n",
       "    }\n",
       "\n",
       "    .dataframe thead th {\n",
       "        text-align: right;\n",
       "    }\n",
       "</style>\n",
       "<table border=\"1\" class=\"dataframe\">\n",
       "  <thead>\n",
       "    <tr style=\"text-align: right;\">\n",
       "      <th></th>\n",
       "      <th>Actuals</th>\n",
       "      <th>Forecast Model 2</th>\n",
       "      <th>Forecast Model 6</th>\n",
       "      <th>Forecast Model 1</th>\n",
       "      <th>Forecast Model 3</th>\n",
       "      <th>Forecast Model 4</th>\n",
       "      <th>Forecast Model 5</th>\n",
       "    </tr>\n",
       "  </thead>\n",
       "  <tbody>\n",
       "    <tr>\n",
       "      <th>0</th>\n",
       "      <td>0.003954</td>\n",
       "      <td>0.006950</td>\n",
       "      <td>0.005983</td>\n",
       "      <td>0.004782</td>\n",
       "      <td>0.003524</td>\n",
       "      <td>0.005979</td>\n",
       "      <td>0.006011</td>\n",
       "    </tr>\n",
       "    <tr>\n",
       "      <th>1</th>\n",
       "      <td>0.002441</td>\n",
       "      <td>0.006529</td>\n",
       "      <td>0.005754</td>\n",
       "      <td>0.004691</td>\n",
       "      <td>0.003317</td>\n",
       "      <td>0.003603</td>\n",
       "      <td>0.003672</td>\n",
       "    </tr>\n",
       "    <tr>\n",
       "      <th>2</th>\n",
       "      <td>0.004960</td>\n",
       "      <td>0.006435</td>\n",
       "      <td>0.005291</td>\n",
       "      <td>0.004330</td>\n",
       "      <td>0.002859</td>\n",
       "      <td>0.002561</td>\n",
       "      <td>0.002582</td>\n",
       "    </tr>\n",
       "    <tr>\n",
       "      <th>3</th>\n",
       "      <td>0.002179</td>\n",
       "      <td>0.006589</td>\n",
       "      <td>0.005320</td>\n",
       "      <td>0.004415</td>\n",
       "      <td>0.002973</td>\n",
       "      <td>0.004922</td>\n",
       "      <td>0.005016</td>\n",
       "    </tr>\n",
       "    <tr>\n",
       "      <th>4</th>\n",
       "      <td>0.006606</td>\n",
       "      <td>0.006570</td>\n",
       "      <td>0.005034</td>\n",
       "      <td>0.004053</td>\n",
       "      <td>0.002710</td>\n",
       "      <td>0.002468</td>\n",
       "      <td>0.002416</td>\n",
       "    </tr>\n",
       "  </tbody>\n",
       "</table>\n",
       "</div>"
      ],
      "text/plain": [
       "    Actuals  Forecast Model 2  Forecast Model 6  Forecast Model 1  \\\n",
       "0  0.003954          0.006950          0.005983          0.004782   \n",
       "1  0.002441          0.006529          0.005754          0.004691   \n",
       "2  0.004960          0.006435          0.005291          0.004330   \n",
       "3  0.002179          0.006589          0.005320          0.004415   \n",
       "4  0.006606          0.006570          0.005034          0.004053   \n",
       "\n",
       "   Forecast Model 3  Forecast Model 4  Forecast Model 5  \n",
       "0          0.003524          0.005979          0.006011  \n",
       "1          0.003317          0.003603          0.003672  \n",
       "2          0.002859          0.002561          0.002582  \n",
       "3          0.002973          0.004922          0.005016  \n",
       "4          0.002710          0.002468          0.002416  "
      ]
     },
     "execution_count": 4,
     "metadata": {},
     "output_type": "execute_result"
    }
   ],
   "source": [
    "df.head()"
   ]
  },
  {
   "cell_type": "markdown",
   "id": "1a7096ba",
   "metadata": {},
   "source": [
    "# Normality Test (Anderson-Darling test)"
   ]
  },
  {
   "cell_type": "code",
   "execution_count": 5,
   "id": "ede66c46",
   "metadata": {},
   "outputs": [],
   "source": [
    "Model_1_residuals=df[\"Actuals\"]-df[\"Forecast Model 1\"]\n",
    "Model_2_residuals=df[\"Actuals\"]-df[\"Forecast Model 2\"]\n",
    "Model_3_residuals=df[\"Actuals\"]-df[\"Forecast Model 3\"]\n",
    "Model_4_residuals=df[\"Actuals\"]-df[\"Forecast Model 4\"]\n",
    "Model_5_residuals=df[\"Actuals\"]-df[\"Forecast Model 5\"]\n",
    "Model_6_residuals=df[\"Actuals\"]-df[\"Forecast Model 6\"]"
   ]
  },
  {
   "cell_type": "code",
   "execution_count": 14,
   "id": "70d29d25",
   "metadata": {},
   "outputs": [
    {
     "data": {
      "text/plain": [
       "AndersonResult(statistic=3.903907150381997, critical_values=array([0.567, 0.646, 0.775, 0.904, 1.075]), significance_level=array([15. , 10. ,  5. ,  2.5,  1. ]))"
      ]
     },
     "execution_count": 14,
     "metadata": {},
     "output_type": "execute_result"
    }
   ],
   "source": [
    "anderson(Model_1_residuals)"
   ]
  },
  {
   "cell_type": "code",
   "execution_count": 15,
   "id": "1cfa1502",
   "metadata": {},
   "outputs": [
    {
     "data": {
      "text/plain": [
       "AndersonResult(statistic=3.2640089771635417, critical_values=array([0.567, 0.646, 0.775, 0.904, 1.075]), significance_level=array([15. , 10. ,  5. ,  2.5,  1. ]))"
      ]
     },
     "execution_count": 15,
     "metadata": {},
     "output_type": "execute_result"
    }
   ],
   "source": [
    "anderson(Model_2_residuals)"
   ]
  },
  {
   "cell_type": "code",
   "execution_count": 16,
   "id": "e947644d",
   "metadata": {},
   "outputs": [
    {
     "data": {
      "text/plain": [
       "AndersonResult(statistic=4.644254159087325, critical_values=array([0.567, 0.646, 0.775, 0.904, 1.075]), significance_level=array([15. , 10. ,  5. ,  2.5,  1. ]))"
      ]
     },
     "execution_count": 16,
     "metadata": {},
     "output_type": "execute_result"
    }
   ],
   "source": [
    "anderson(Model_3_residuals)"
   ]
  },
  {
   "cell_type": "code",
   "execution_count": 17,
   "id": "67425554",
   "metadata": {},
   "outputs": [
    {
     "data": {
      "text/plain": [
       "AndersonResult(statistic=1.925764211838782, critical_values=array([0.567, 0.646, 0.775, 0.904, 1.075]), significance_level=array([15. , 10. ,  5. ,  2.5,  1. ]))"
      ]
     },
     "execution_count": 17,
     "metadata": {},
     "output_type": "execute_result"
    }
   ],
   "source": [
    "anderson(Model_4_residuals)"
   ]
  },
  {
   "cell_type": "code",
   "execution_count": 18,
   "id": "beae93c0",
   "metadata": {},
   "outputs": [
    {
     "data": {
      "text/plain": [
       "AndersonResult(statistic=2.0345212588455297, critical_values=array([0.567, 0.646, 0.775, 0.904, 1.075]), significance_level=array([15. , 10. ,  5. ,  2.5,  1. ]))"
      ]
     },
     "execution_count": 18,
     "metadata": {},
     "output_type": "execute_result"
    }
   ],
   "source": [
    "anderson(Model_5_residuals)"
   ]
  },
  {
   "cell_type": "code",
   "execution_count": 19,
   "id": "5f145f85",
   "metadata": {},
   "outputs": [
    {
     "data": {
      "text/plain": [
       "AndersonResult(statistic=3.6995595459123365, critical_values=array([0.567, 0.646, 0.775, 0.904, 1.075]), significance_level=array([15. , 10. ,  5. ,  2.5,  1. ]))"
      ]
     },
     "execution_count": 19,
     "metadata": {},
     "output_type": "execute_result"
    }
   ],
   "source": [
    "anderson(Model_6_residuals)"
   ]
  },
  {
   "cell_type": "markdown",
   "id": "864c7a6b",
   "metadata": {},
   "source": [
    "# Stationarity Test (Augmented Dickey Fuller Test)"
   ]
  },
  {
   "cell_type": "code",
   "execution_count": 1,
   "id": "e7b7f90c",
   "metadata": {},
   "outputs": [],
   "source": [
    "from statsmodels.tsa.stattools import adfuller"
   ]
  },
  {
   "cell_type": "code",
   "execution_count": 6,
   "id": "9aa3ee8f",
   "metadata": {},
   "outputs": [
    {
     "data": {
      "text/plain": [
       "(-7.946149320767883,\n",
       " 3.2160320276483184e-12,\n",
       " 4,\n",
       " 247,\n",
       " {'1%': -3.457105309726321,\n",
       "  '5%': -2.873313676101283,\n",
       "  '10%': -2.5730443824681606},\n",
       " -1870.5908960357165)"
      ]
     },
     "execution_count": 6,
     "metadata": {},
     "output_type": "execute_result"
    }
   ],
   "source": [
    "adfuller(Model_1_residuals)"
   ]
  },
  {
   "cell_type": "code",
   "execution_count": 8,
   "id": "aa50ec3d",
   "metadata": {},
   "outputs": [
    {
     "data": {
      "text/plain": [
       "(-8.268294456208322,\n",
       " 4.870503788747108e-13,\n",
       " 4,\n",
       " 247,\n",
       " {'1%': -3.457105309726321,\n",
       "  '5%': -2.873313676101283,\n",
       "  '10%': -2.5730443824681606},\n",
       " -1885.3435666496316)"
      ]
     },
     "execution_count": 8,
     "metadata": {},
     "output_type": "execute_result"
    }
   ],
   "source": [
    "adfuller(Model_2_residuals)"
   ]
  },
  {
   "cell_type": "code",
   "execution_count": 9,
   "id": "707bbc17",
   "metadata": {},
   "outputs": [
    {
     "data": {
      "text/plain": [
       "(-9.129572845814893,\n",
       " 3.047801519352253e-15,\n",
       " 1,\n",
       " 250,\n",
       " {'1%': -3.456780859712, '5%': -2.8731715065600003, '10%': -2.572968544},\n",
       " -1882.6536690990793)"
      ]
     },
     "execution_count": 9,
     "metadata": {},
     "output_type": "execute_result"
    }
   ],
   "source": [
    "adfuller(Model_3_residuals)"
   ]
  },
  {
   "cell_type": "code",
   "execution_count": 10,
   "id": "cd51e2f8",
   "metadata": {},
   "outputs": [
    {
     "data": {
      "text/plain": [
       "(-13.390997533930443,\n",
       " 4.767842087294576e-25,\n",
       " 2,\n",
       " 249,\n",
       " {'1%': -3.4568881317725864,\n",
       "  '5%': -2.8732185133016057,\n",
       "  '10%': -2.5729936189738876},\n",
       " -1857.0495718303869)"
      ]
     },
     "execution_count": 10,
     "metadata": {},
     "output_type": "execute_result"
    }
   ],
   "source": [
    "adfuller(Model_4_residuals)"
   ]
  },
  {
   "cell_type": "code",
   "execution_count": 11,
   "id": "ce344403",
   "metadata": {},
   "outputs": [
    {
     "data": {
      "text/plain": [
       "(-14.498435636252507,\n",
       " 5.987340043487066e-27,\n",
       " 2,\n",
       " 249,\n",
       " {'1%': -3.4568881317725864,\n",
       "  '5%': -2.8732185133016057,\n",
       "  '10%': -2.5729936189738876},\n",
       " -1844.0620574067389)"
      ]
     },
     "execution_count": 11,
     "metadata": {},
     "output_type": "execute_result"
    }
   ],
   "source": [
    "adfuller(Model_5_residuals)"
   ]
  },
  {
   "cell_type": "code",
   "execution_count": 12,
   "id": "c70e3844",
   "metadata": {
    "scrolled": true
   },
   "outputs": [
    {
     "data": {
      "text/plain": [
       "(-7.329070247681254,\n",
       " 1.1404569053988514e-10,\n",
       " 4,\n",
       " 247,\n",
       " {'1%': -3.457105309726321,\n",
       "  '5%': -2.873313676101283,\n",
       "  '10%': -2.5730443824681606},\n",
       " -1864.3480192130955)"
      ]
     },
     "execution_count": 12,
     "metadata": {},
     "output_type": "execute_result"
    }
   ],
   "source": [
    "adfuller(Model_6_residuals)"
   ]
  },
  {
   "cell_type": "markdown",
   "id": "b7a74b89",
   "metadata": {},
   "source": [
    "# Autocorrelation Test (Breusch Godfrey test)"
   ]
  },
  {
   "cell_type": "code",
   "execution_count": 16,
   "id": "a88075ac",
   "metadata": {},
   "outputs": [
    {
     "name": "stdout",
     "output_type": "stream",
     "text": [
      "(112.15317678989605, 1.436638865757089e-22, 2565.344994052197, 7.039489094732117e-167)\n"
     ]
    },
    {
     "name": "stderr",
     "output_type": "stream",
     "text": [
      "C:\\Users\\GobatoH\\Anaconda3\\lib\\site-packages\\statsmodels\\base\\model.py:1871: ValueWarning: covariance of constraints does not have full rank. The number of constraints is 5, but rank is 2\n",
      "  warnings.warn('covariance of constraints does not have full '\n"
     ]
    }
   ],
   "source": [
    "import statsmodels.api as sm\n",
    "y = Model_1_residuals\n",
    "x = Model_1_residuals[:len(Model_1_residuals)-1]\n",
    "for i in range(len(y)-1):\n",
    "    y[i]=y[i+1]\n",
    "y=y[:len(Model_1_residuals)-1]\n",
    "x = sm.add_constant(x)\n",
    "model = sm.OLS(y, x).fit()\n",
    "import statsmodels.stats.diagnostic as dg\n",
    "print(dg.acorr_breusch_godfrey(model, nlags=5))"
   ]
  },
  {
   "cell_type": "code",
   "execution_count": 17,
   "id": "3f6e8d65",
   "metadata": {},
   "outputs": [
    {
     "name": "stdout",
     "output_type": "stream",
     "text": [
      "(239.88596350226706, 8.122146034710314e-50, 2691.065884420648, 2.3859168874633446e-169)\n"
     ]
    },
    {
     "name": "stderr",
     "output_type": "stream",
     "text": [
      "C:\\Users\\GobatoH\\Anaconda3\\lib\\site-packages\\statsmodels\\base\\model.py:1871: ValueWarning: covariance of constraints does not have full rank. The number of constraints is 5, but rank is 2\n",
      "  warnings.warn('covariance of constraints does not have full '\n"
     ]
    }
   ],
   "source": [
    "import statsmodels.api as sm\n",
    "y = Model_2_residuals\n",
    "x = Model_2_residuals[:len(Model_1_residuals)-1]\n",
    "for i in range(len(y)-1):\n",
    "    y[i]=y[i+1]\n",
    "y=y[:len(Model_1_residuals)-1]\n",
    "x = sm.add_constant(x)\n",
    "model = sm.OLS(y, x).fit()\n",
    "import statsmodels.stats.diagnostic as dg\n",
    "print(dg.acorr_breusch_godfrey(model, nlags=5))"
   ]
  },
  {
   "cell_type": "code",
   "execution_count": 18,
   "id": "e8da6de8",
   "metadata": {},
   "outputs": [
    {
     "name": "stdout",
     "output_type": "stream",
     "text": [
      "(205.83586357114243, 1.6022294576723722e-42, 2487.9293542488012, 2.670159190244855e-165)\n"
     ]
    },
    {
     "name": "stderr",
     "output_type": "stream",
     "text": [
      "C:\\Users\\GobatoH\\Anaconda3\\lib\\site-packages\\statsmodels\\base\\model.py:1871: ValueWarning: covariance of constraints does not have full rank. The number of constraints is 5, but rank is 2\n",
      "  warnings.warn('covariance of constraints does not have full '\n"
     ]
    }
   ],
   "source": [
    "import statsmodels.api as sm\n",
    "y = Model_3_residuals\n",
    "x = Model_3_residuals[:len(Model_1_residuals)-1]\n",
    "for i in range(len(y)-1):\n",
    "    y[i]=y[i+1]\n",
    "y=y[:len(Model_1_residuals)-1]\n",
    "x = sm.add_constant(x)\n",
    "model = sm.OLS(y, x).fit()\n",
    "import statsmodels.stats.diagnostic as dg\n",
    "print(dg.acorr_breusch_godfrey(model, nlags=5))"
   ]
  },
  {
   "cell_type": "code",
   "execution_count": 19,
   "id": "77eff790",
   "metadata": {},
   "outputs": [
    {
     "name": "stdout",
     "output_type": "stream",
     "text": [
      "(248.20366876494435, 1.3351431418337783e-51, 11062.768472878262, 6.059527055496734e-244)\n"
     ]
    },
    {
     "name": "stderr",
     "output_type": "stream",
     "text": [
      "C:\\Users\\GobatoH\\Anaconda3\\lib\\site-packages\\statsmodels\\base\\model.py:1871: ValueWarning: covariance of constraints does not have full rank. The number of constraints is 5, but rank is 2\n",
      "  warnings.warn('covariance of constraints does not have full '\n"
     ]
    }
   ],
   "source": [
    "import statsmodels.api as sm\n",
    "y = Model_4_residuals\n",
    "x = Model_4_residuals[:len(Model_1_residuals)-1]\n",
    "for i in range(len(y)-1):\n",
    "    y[i]=y[i+1]\n",
    "y=y[:len(Model_1_residuals)-1]\n",
    "x = sm.add_constant(x)\n",
    "model = sm.OLS(y, x).fit()\n",
    "import statsmodels.stats.diagnostic as dg\n",
    "print(dg.acorr_breusch_godfrey(model, nlags=5))"
   ]
  },
  {
   "cell_type": "code",
   "execution_count": 20,
   "id": "2fbb0fcd",
   "metadata": {},
   "outputs": [
    {
     "name": "stdout",
     "output_type": "stream",
     "text": [
      "(247.39796124710696, 1.9878513222061284e-51, 8554.753765411675, 3.2175635315160773e-230)\n"
     ]
    },
    {
     "name": "stderr",
     "output_type": "stream",
     "text": [
      "C:\\Users\\GobatoH\\Anaconda3\\lib\\site-packages\\statsmodels\\base\\model.py:1871: ValueWarning: covariance of constraints does not have full rank. The number of constraints is 5, but rank is 2\n",
      "  warnings.warn('covariance of constraints does not have full '\n"
     ]
    }
   ],
   "source": [
    "import statsmodels.api as sm\n",
    "y = Model_5_residuals\n",
    "x = Model_5_residuals[:len(Model_1_residuals)-1]\n",
    "for i in range(len(y)-1):\n",
    "    y[i]=y[i+1]\n",
    "y=y[:len(Model_1_residuals)-1]\n",
    "x = sm.add_constant(x)\n",
    "model = sm.OLS(y, x).fit()\n",
    "import statsmodels.stats.diagnostic as dg\n",
    "print(dg.acorr_breusch_godfrey(model, nlags=5))"
   ]
  },
  {
   "cell_type": "code",
   "execution_count": 21,
   "id": "42446a77",
   "metadata": {},
   "outputs": [
    {
     "name": "stdout",
     "output_type": "stream",
     "text": [
      "(221.96124038141343, 5.6470301341182225e-46, 1231.8342823069543, 7.394779842321539e-130)\n"
     ]
    },
    {
     "name": "stderr",
     "output_type": "stream",
     "text": [
      "C:\\Users\\GobatoH\\Anaconda3\\lib\\site-packages\\statsmodels\\base\\model.py:1871: ValueWarning: covariance of constraints does not have full rank. The number of constraints is 5, but rank is 2\n",
      "  warnings.warn('covariance of constraints does not have full '\n"
     ]
    }
   ],
   "source": [
    "import statsmodels.api as sm\n",
    "y = Model_6_residuals\n",
    "x = Model_6_residuals[:len(Model_1_residuals)-1]\n",
    "for i in range(len(y)-1):\n",
    "    y[i]=y[i+1]\n",
    "y=y[:len(Model_1_residuals)-1]\n",
    "x = sm.add_constant(x)\n",
    "model = sm.OLS(y, x).fit()\n",
    "import statsmodels.stats.diagnostic as dg\n",
    "print(dg.acorr_breusch_godfrey(model, nlags=5))"
   ]
  },
  {
   "cell_type": "markdown",
   "id": "c6a1b3c7",
   "metadata": {},
   "source": [
    "# Diebold-Mariano Test"
   ]
  },
  {
   "cell_type": "code",
   "execution_count": 20,
   "id": "66c7c9ac",
   "metadata": {},
   "outputs": [],
   "source": [
    "def dm_test(actual_lst, pred1_lst, pred2_lst, h = 1, crit=\"MSE\", power = 2):\n",
    "    # Routine for checking errors\n",
    "    def error_check():\n",
    "        rt = 0\n",
    "        msg = \"\"\n",
    "        # Check if h is an integer\n",
    "        if (not isinstance(h, int)):\n",
    "            rt = -1\n",
    "            msg = \"The type of the number of steps ahead (h) is not an integer.\"\n",
    "            return (rt,msg)\n",
    "        # Check the range of h\n",
    "        if (h < 1):\n",
    "            rt = -1\n",
    "            msg = \"The number of steps ahead (h) is not large enough.\"\n",
    "            return (rt,msg)\n",
    "        len_act = len(actual_lst)\n",
    "        len_p1  = len(pred1_lst)\n",
    "        len_p2  = len(pred2_lst)\n",
    "        # Check if lengths of actual values and predicted values are equal\n",
    "        if (len_act != len_p1 or len_p1 != len_p2 or len_act != len_p2):\n",
    "            rt = -1\n",
    "            msg = \"Lengths of actual_lst, pred1_lst and pred2_lst do not match.\"\n",
    "            return (rt,msg)\n",
    "        # Check range of h\n",
    "        if (h >= len_act):\n",
    "            rt = -1\n",
    "            msg = \"The number of steps ahead is too large.\"\n",
    "            return (rt,msg)\n",
    "        # Check if criterion supported\n",
    "        if (crit != \"MSE\" and crit != \"MAPE\" and crit != \"MAD\" and crit != \"poly\"):\n",
    "            rt = -1\n",
    "            msg = \"The criterion is not supported.\"\n",
    "            return (rt,msg)  \n",
    "        # Check if every value of the input lists are numerical values\n",
    "        from re import compile as re_compile\n",
    "        comp = re_compile(\"^\\d+?\\.\\d+?$\")  \n",
    "        def compiled_regex(s):\n",
    "            \"\"\" Returns True is string is a number. \"\"\"\n",
    "            if comp.match(s) is None:\n",
    "                return s.isdigit()\n",
    "            return True\n",
    "        for actual, pred1, pred2 in zip(actual_lst, pred1_lst, pred2_lst):\n",
    "            is_actual_ok = compiled_regex(str(abs(actual)))\n",
    "            is_pred1_ok = compiled_regex(str(abs(pred1)))\n",
    "            is_pred2_ok = compiled_regex(str(abs(pred2)))\n",
    "            if (not (is_actual_ok and is_pred1_ok and is_pred2_ok)):  \n",
    "                msg = \"An element in the actual_lst, pred1_lst or pred2_lst is not numeric.\"\n",
    "                rt = -1\n",
    "                return (rt,msg)\n",
    "        return (rt,msg)\n",
    "    \n",
    "    # Error check\n",
    "    error_code = error_check()\n",
    "    # Raise error if cannot pass error check\n",
    "    if (error_code[0] == -1):\n",
    "        raise SyntaxError(error_code[1])\n",
    "        return\n",
    "    # Import libraries\n",
    "    from scipy.stats import t\n",
    "    import collections\n",
    "    import pandas as pd\n",
    "    import numpy as np\n",
    "    \n",
    "    # Initialise lists\n",
    "    e1_lst = []\n",
    "    e2_lst = []\n",
    "    d_lst  = []\n",
    "    \n",
    "    # convert every value of the lists into real values\n",
    "    actual_lst = pd.Series(actual_lst).apply(lambda x: float(x)).tolist()\n",
    "    pred1_lst = pd.Series(pred1_lst).apply(lambda x: float(x)).tolist()\n",
    "    pred2_lst = pd.Series(pred2_lst).apply(lambda x: float(x)).tolist()\n",
    "    \n",
    "    # Length of lists (as real numbers)\n",
    "    T = float(len(actual_lst))\n",
    "    \n",
    "    # construct d according to crit\n",
    "    if (crit == \"MSE\"):\n",
    "        for actual,p1,p2 in zip(actual_lst,pred1_lst,pred2_lst):\n",
    "            e1_lst.append((actual - p1)**2)\n",
    "            e2_lst.append((actual - p2)**2)\n",
    "        for e1, e2 in zip(e1_lst, e2_lst):\n",
    "            d_lst.append(e1 - e2)\n",
    "    elif (crit == \"MAD\"):\n",
    "        for actual,p1,p2 in zip(actual_lst,pred1_lst,pred2_lst):\n",
    "            e1_lst.append(abs(actual - p1))\n",
    "            e2_lst.append(abs(actual - p2))\n",
    "        for e1, e2 in zip(e1_lst, e2_lst):\n",
    "            d_lst.append(e1 - e2)\n",
    "    elif (crit == \"MAPE\"):\n",
    "        for actual,p1,p2 in zip(actual_lst,pred1_lst,pred2_lst):\n",
    "            e1_lst.append(abs((actual - p1)/actual))\n",
    "            e2_lst.append(abs((actual - p2)/actual))\n",
    "        for e1, e2 in zip(e1_lst, e2_lst):\n",
    "            d_lst.append(e1 - e2)\n",
    "    elif (crit == \"poly\"):\n",
    "        for actual,p1,p2 in zip(actual_lst,pred1_lst,pred2_lst):\n",
    "            e1_lst.append(((actual - p1))**(power))\n",
    "            e2_lst.append(((actual - p2))**(power))\n",
    "        for e1, e2 in zip(e1_lst, e2_lst):\n",
    "            d_lst.append(e1 - e2)    \n",
    "    \n",
    "    # Mean of d        \n",
    "    mean_d = pd.Series(d_lst).mean()\n",
    "    \n",
    "    # Find autocovariance and construct DM test statistics\n",
    "    def autocovariance(Xi, N, k, Xs):\n",
    "        autoCov = 0\n",
    "        T = float(N)\n",
    "        for i in np.arange(0, N-k):\n",
    "              autoCov += ((Xi[i+k])-Xs)*(Xi[i]-Xs)\n",
    "        return (1/(T))*autoCov\n",
    "    gamma = []\n",
    "    for lag in range(0,h):\n",
    "        gamma.append(autocovariance(d_lst,len(d_lst),lag,mean_d)) # 0, 1, 2\n",
    "    V_d = (gamma[0] + 2*sum(gamma[1:]))/T\n",
    "    DM_stat=V_d**(-0.5)*mean_d\n",
    "    harvey_adj=((T+1-2*h+h*(h-1)/T)/T)**(0.5)\n",
    "    DM_stat = harvey_adj*DM_stat\n",
    "    # Find p-value\n",
    "    p_value = 2*t.cdf(-abs(DM_stat), df = T - 1)\n",
    "    \n",
    "    # Construct named tuple for return\n",
    "    dm_return = collections.namedtuple('dm_return', 'DM p_value')\n",
    "    \n",
    "    rt = dm_return(DM = DM_stat, p_value = p_value)\n",
    "    \n",
    "    return rt"
   ]
  },
  {
   "cell_type": "code",
   "execution_count": 21,
   "id": "7896b794",
   "metadata": {},
   "outputs": [
    {
     "data": {
      "text/plain": [
       "dm_return(DM=3.428789588405034, p_value=0.0007085083302396006)"
      ]
     },
     "execution_count": 21,
     "metadata": {},
     "output_type": "execute_result"
    }
   ],
   "source": [
    "dm_test(df[\"Actuals\"], df[\"Forecast Model 1\"], df[\"Forecast Model 2\"])"
   ]
  },
  {
   "cell_type": "code",
   "execution_count": 22,
   "id": "41a6f50b",
   "metadata": {},
   "outputs": [
    {
     "data": {
      "text/plain": [
       "dm_return(DM=-5.6664370634499495, p_value=3.988205972483402e-08)"
      ]
     },
     "execution_count": 22,
     "metadata": {},
     "output_type": "execute_result"
    }
   ],
   "source": [
    "dm_test(df[\"Actuals\"], df[\"Forecast Model 1\"], df[\"Forecast Model 3\"])"
   ]
  },
  {
   "cell_type": "code",
   "execution_count": 23,
   "id": "6743fbab",
   "metadata": {},
   "outputs": [
    {
     "data": {
      "text/plain": [
       "dm_return(DM=-2.8945185969845593, p_value=0.004131521695908874)"
      ]
     },
     "execution_count": 23,
     "metadata": {},
     "output_type": "execute_result"
    }
   ],
   "source": [
    "dm_test(df[\"Actuals\"], df[\"Forecast Model 1\"], df[\"Forecast Model 4\"])"
   ]
  },
  {
   "cell_type": "code",
   "execution_count": 24,
   "id": "d21f7953",
   "metadata": {},
   "outputs": [
    {
     "data": {
      "text/plain": [
       "dm_return(DM=-2.803669862704389, p_value=0.0054472592669112235)"
      ]
     },
     "execution_count": 24,
     "metadata": {},
     "output_type": "execute_result"
    }
   ],
   "source": [
    "dm_test(df[\"Actuals\"], df[\"Forecast Model 1\"], df[\"Forecast Model 5\"])"
   ]
  },
  {
   "cell_type": "code",
   "execution_count": 25,
   "id": "d7c0df60",
   "metadata": {},
   "outputs": [
    {
     "data": {
      "text/plain": [
       "dm_return(DM=1.0910935508584283, p_value=0.27627798862707104)"
      ]
     },
     "execution_count": 25,
     "metadata": {},
     "output_type": "execute_result"
    }
   ],
   "source": [
    "dm_test(df[\"Actuals\"], df[\"Forecast Model 1\"], df[\"Forecast Model 6\"])"
   ]
  },
  {
   "cell_type": "code",
   "execution_count": 26,
   "id": "0aa6b574",
   "metadata": {},
   "outputs": [
    {
     "data": {
      "text/plain": [
       "dm_return(DM=-4.675307145654599, p_value=4.795738420985871e-06)"
      ]
     },
     "execution_count": 26,
     "metadata": {},
     "output_type": "execute_result"
    }
   ],
   "source": [
    "dm_test(df[\"Actuals\"], df[\"Forecast Model 2\"], df[\"Forecast Model 3\"])"
   ]
  },
  {
   "cell_type": "code",
   "execution_count": 27,
   "id": "190cd112",
   "metadata": {},
   "outputs": [
    {
     "data": {
      "text/plain": [
       "dm_return(DM=-4.489771593304478, p_value=1.0875423283024825e-05)"
      ]
     },
     "execution_count": 27,
     "metadata": {},
     "output_type": "execute_result"
    }
   ],
   "source": [
    "dm_test(df[\"Actuals\"], df[\"Forecast Model 2\"], df[\"Forecast Model 4\"])"
   ]
  },
  {
   "cell_type": "code",
   "execution_count": 28,
   "id": "16b5c01a",
   "metadata": {},
   "outputs": [
    {
     "data": {
      "text/plain": [
       "dm_return(DM=-4.019007356762007, p_value=7.730929505636449e-05)"
      ]
     },
     "execution_count": 28,
     "metadata": {},
     "output_type": "execute_result"
    }
   ],
   "source": [
    "dm_test(df[\"Actuals\"], df[\"Forecast Model 2\"], df[\"Forecast Model 5\"])"
   ]
  },
  {
   "cell_type": "code",
   "execution_count": 29,
   "id": "885389e0",
   "metadata": {},
   "outputs": [
    {
     "data": {
      "text/plain": [
       "dm_return(DM=-2.9329879161512715, p_value=0.003667529198774984)"
      ]
     },
     "execution_count": 29,
     "metadata": {},
     "output_type": "execute_result"
    }
   ],
   "source": [
    "dm_test(df[\"Actuals\"], df[\"Forecast Model 2\"], df[\"Forecast Model 6\"])"
   ]
  },
  {
   "cell_type": "code",
   "execution_count": 30,
   "id": "c41b6493",
   "metadata": {},
   "outputs": [
    {
     "data": {
      "text/plain": [
       "dm_return(DM=-1.0426528420833872, p_value=0.29811229775721604)"
      ]
     },
     "execution_count": 30,
     "metadata": {},
     "output_type": "execute_result"
    }
   ],
   "source": [
    "dm_test(df[\"Actuals\"], df[\"Forecast Model 3\"], df[\"Forecast Model 4\"])"
   ]
  },
  {
   "cell_type": "code",
   "execution_count": 31,
   "id": "9afd53ff",
   "metadata": {},
   "outputs": [
    {
     "data": {
      "text/plain": [
       "dm_return(DM=-1.4484461211769777, p_value=0.14874036309085817)"
      ]
     },
     "execution_count": 31,
     "metadata": {},
     "output_type": "execute_result"
    }
   ],
   "source": [
    "dm_test(df[\"Actuals\"], df[\"Forecast Model 3\"], df[\"Forecast Model 5\"])"
   ]
  },
  {
   "cell_type": "code",
   "execution_count": 32,
   "id": "73cf60f6",
   "metadata": {},
   "outputs": [
    {
     "data": {
      "text/plain": [
       "dm_return(DM=4.349666718909448, p_value=1.9842075660182588e-05)"
      ]
     },
     "execution_count": 32,
     "metadata": {},
     "output_type": "execute_result"
    }
   ],
   "source": [
    "dm_test(df[\"Actuals\"], df[\"Forecast Model 3\"], df[\"Forecast Model 6\"])"
   ]
  },
  {
   "cell_type": "code",
   "execution_count": 33,
   "id": "9dd98a53",
   "metadata": {},
   "outputs": [
    {
     "data": {
      "text/plain": [
       "dm_return(DM=-1.6452085159439402, p_value=0.10117850679454392)"
      ]
     },
     "execution_count": 33,
     "metadata": {},
     "output_type": "execute_result"
    }
   ],
   "source": [
    "dm_test(df[\"Actuals\"], df[\"Forecast Model 4\"], df[\"Forecast Model 5\"])"
   ]
  },
  {
   "cell_type": "code",
   "execution_count": 34,
   "id": "e94590a6",
   "metadata": {},
   "outputs": [
    {
     "data": {
      "text/plain": [
       "dm_return(DM=3.125493531445082, p_value=0.001983873811478878)"
      ]
     },
     "execution_count": 34,
     "metadata": {},
     "output_type": "execute_result"
    }
   ],
   "source": [
    "dm_test(df[\"Actuals\"], df[\"Forecast Model 4\"], df[\"Forecast Model 6\"])"
   ]
  },
  {
   "cell_type": "code",
   "execution_count": 35,
   "id": "bc97af31",
   "metadata": {},
   "outputs": [
    {
     "data": {
      "text/plain": [
       "dm_return(DM=3.0075898807891277, p_value=0.0029008827520580526)"
      ]
     },
     "execution_count": 35,
     "metadata": {},
     "output_type": "execute_result"
    }
   ],
   "source": [
    "dm_test(df[\"Actuals\"], df[\"Forecast Model 5\"], df[\"Forecast Model 6\"])"
   ]
  },
  {
   "cell_type": "code",
   "execution_count": null,
   "id": "610ace7a",
   "metadata": {},
   "outputs": [],
   "source": []
  }
 ],
 "metadata": {
  "kernelspec": {
   "display_name": "Python 3 (ipykernel)",
   "language": "python",
   "name": "python3"
  },
  "language_info": {
   "codemirror_mode": {
    "name": "ipython",
    "version": 3
   },
   "file_extension": ".py",
   "mimetype": "text/x-python",
   "name": "python",
   "nbconvert_exporter": "python",
   "pygments_lexer": "ipython3",
   "version": "3.9.12"
  }
 },
 "nbformat": 4,
 "nbformat_minor": 5
}
