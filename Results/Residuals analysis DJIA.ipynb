{
 "cells": [
  {
   "cell_type": "code",
   "execution_count": 27,
   "id": "0e7b199b",
   "metadata": {},
   "outputs": [],
   "source": [
    "import pandas as pd\n",
    "import numpy as np\n",
    "from scipy.stats import anderson"
   ]
  },
  {
   "cell_type": "code",
   "execution_count": 28,
   "id": "93e0b3d5",
   "metadata": {},
   "outputs": [],
   "source": [
    "df = pd.read_excel('DJIA results.xlsx',sheet_name='DM test')"
   ]
  },
  {
   "cell_type": "code",
   "execution_count": 29,
   "id": "6dad1f63",
   "metadata": {},
   "outputs": [
    {
     "data": {
      "text/html": [
       "<div>\n",
       "<style scoped>\n",
       "    .dataframe tbody tr th:only-of-type {\n",
       "        vertical-align: middle;\n",
       "    }\n",
       "\n",
       "    .dataframe tbody tr th {\n",
       "        vertical-align: top;\n",
       "    }\n",
       "\n",
       "    .dataframe thead th {\n",
       "        text-align: right;\n",
       "    }\n",
       "</style>\n",
       "<table border=\"1\" class=\"dataframe\">\n",
       "  <thead>\n",
       "    <tr style=\"text-align: right;\">\n",
       "      <th></th>\n",
       "      <th>Actuals</th>\n",
       "      <th>Forecast Model 2</th>\n",
       "      <th>Forecast Model 6</th>\n",
       "      <th>Forecast Model 1</th>\n",
       "      <th>Forecast Model 3</th>\n",
       "      <th>Forecast Model 4</th>\n",
       "      <th>Forecast Model 5</th>\n",
       "    </tr>\n",
       "  </thead>\n",
       "  <tbody>\n",
       "    <tr>\n",
       "      <th>0</th>\n",
       "      <td>0.003954</td>\n",
       "      <td>0.004724</td>\n",
       "      <td>0.004953</td>\n",
       "      <td>0.004228</td>\n",
       "      <td>0.003535</td>\n",
       "      <td>0.003514</td>\n",
       "      <td>0.003633</td>\n",
       "    </tr>\n",
       "    <tr>\n",
       "      <th>1</th>\n",
       "      <td>0.002441</td>\n",
       "      <td>0.004363</td>\n",
       "      <td>0.004981</td>\n",
       "      <td>0.004295</td>\n",
       "      <td>0.003468</td>\n",
       "      <td>0.003524</td>\n",
       "      <td>0.003648</td>\n",
       "    </tr>\n",
       "    <tr>\n",
       "      <th>2</th>\n",
       "      <td>0.004960</td>\n",
       "      <td>0.004940</td>\n",
       "      <td>0.004851</td>\n",
       "      <td>0.004242</td>\n",
       "      <td>0.003313</td>\n",
       "      <td>0.003335</td>\n",
       "      <td>0.003445</td>\n",
       "    </tr>\n",
       "    <tr>\n",
       "      <th>3</th>\n",
       "      <td>0.002179</td>\n",
       "      <td>0.004609</td>\n",
       "      <td>0.004925</td>\n",
       "      <td>0.004716</td>\n",
       "      <td>0.003689</td>\n",
       "      <td>0.005123</td>\n",
       "      <td>0.005262</td>\n",
       "    </tr>\n",
       "    <tr>\n",
       "      <th>4</th>\n",
       "      <td>0.006606</td>\n",
       "      <td>0.005567</td>\n",
       "      <td>0.004999</td>\n",
       "      <td>0.004712</td>\n",
       "      <td>0.003796</td>\n",
       "      <td>0.003574</td>\n",
       "      <td>0.004073</td>\n",
       "    </tr>\n",
       "  </tbody>\n",
       "</table>\n",
       "</div>"
      ],
      "text/plain": [
       "    Actuals  Forecast Model 2  Forecast Model 6  Forecast Model 1  \\\n",
       "0  0.003954          0.004724          0.004953          0.004228   \n",
       "1  0.002441          0.004363          0.004981          0.004295   \n",
       "2  0.004960          0.004940          0.004851          0.004242   \n",
       "3  0.002179          0.004609          0.004925          0.004716   \n",
       "4  0.006606          0.005567          0.004999          0.004712   \n",
       "\n",
       "   Forecast Model 3  Forecast Model 4  Forecast Model 5  \n",
       "0          0.003535          0.003514          0.003633  \n",
       "1          0.003468          0.003524          0.003648  \n",
       "2          0.003313          0.003335          0.003445  \n",
       "3          0.003689          0.005123          0.005262  \n",
       "4          0.003796          0.003574          0.004073  "
      ]
     },
     "execution_count": 29,
     "metadata": {},
     "output_type": "execute_result"
    }
   ],
   "source": [
    "df.head()"
   ]
  },
  {
   "cell_type": "markdown",
   "id": "1a7096ba",
   "metadata": {},
   "source": [
    "# Normality Test (Anderson-Darling test)"
   ]
  },
  {
   "cell_type": "code",
   "execution_count": 30,
   "id": "ede66c46",
   "metadata": {},
   "outputs": [],
   "source": [
    "Model_1_residuals=df[\"Actuals\"]-df[\"Forecast Model 1\"]\n",
    "Model_2_residuals=df[\"Actuals\"]-df[\"Forecast Model 2\"]\n",
    "Model_3_residuals=df[\"Actuals\"]-df[\"Forecast Model 3\"]\n",
    "Model_4_residuals=df[\"Actuals\"]-df[\"Forecast Model 4\"]\n",
    "Model_5_residuals=df[\"Actuals\"]-df[\"Forecast Model 5\"]\n",
    "Model_6_residuals=df[\"Actuals\"]-df[\"Forecast Model 6\"]"
   ]
  },
  {
   "cell_type": "code",
   "execution_count": 5,
   "id": "70d29d25",
   "metadata": {},
   "outputs": [
    {
     "data": {
      "text/plain": [
       "AndersonResult(statistic=4.580851931630718, critical_values=array([0.567, 0.646, 0.775, 0.904, 1.075]), significance_level=array([15. , 10. ,  5. ,  2.5,  1. ]))"
      ]
     },
     "execution_count": 5,
     "metadata": {},
     "output_type": "execute_result"
    }
   ],
   "source": [
    "anderson(Model_1_residuals)"
   ]
  },
  {
   "cell_type": "code",
   "execution_count": 6,
   "id": "1cfa1502",
   "metadata": {},
   "outputs": [
    {
     "data": {
      "text/plain": [
       "AndersonResult(statistic=4.780520199974831, critical_values=array([0.567, 0.646, 0.775, 0.904, 1.075]), significance_level=array([15. , 10. ,  5. ,  2.5,  1. ]))"
      ]
     },
     "execution_count": 6,
     "metadata": {},
     "output_type": "execute_result"
    }
   ],
   "source": [
    "anderson(Model_2_residuals)"
   ]
  },
  {
   "cell_type": "code",
   "execution_count": 7,
   "id": "e947644d",
   "metadata": {},
   "outputs": [
    {
     "data": {
      "text/plain": [
       "AndersonResult(statistic=3.261335284585357, critical_values=array([0.567, 0.646, 0.775, 0.904, 1.075]), significance_level=array([15. , 10. ,  5. ,  2.5,  1. ]))"
      ]
     },
     "execution_count": 7,
     "metadata": {},
     "output_type": "execute_result"
    }
   ],
   "source": [
    "anderson(Model_3_residuals)"
   ]
  },
  {
   "cell_type": "code",
   "execution_count": 8,
   "id": "67425554",
   "metadata": {},
   "outputs": [
    {
     "data": {
      "text/plain": [
       "AndersonResult(statistic=2.3924086039872066, critical_values=array([0.567, 0.646, 0.775, 0.904, 1.075]), significance_level=array([15. , 10. ,  5. ,  2.5,  1. ]))"
      ]
     },
     "execution_count": 8,
     "metadata": {},
     "output_type": "execute_result"
    }
   ],
   "source": [
    "anderson(Model_4_residuals)"
   ]
  },
  {
   "cell_type": "code",
   "execution_count": 9,
   "id": "beae93c0",
   "metadata": {},
   "outputs": [
    {
     "data": {
      "text/plain": [
       "AndersonResult(statistic=2.5902667775816894, critical_values=array([0.567, 0.646, 0.775, 0.904, 1.075]), significance_level=array([15. , 10. ,  5. ,  2.5,  1. ]))"
      ]
     },
     "execution_count": 9,
     "metadata": {},
     "output_type": "execute_result"
    }
   ],
   "source": [
    "anderson(Model_5_residuals)"
   ]
  },
  {
   "cell_type": "code",
   "execution_count": 10,
   "id": "5f145f85",
   "metadata": {},
   "outputs": [
    {
     "data": {
      "text/plain": [
       "AndersonResult(statistic=4.319748622486713, critical_values=array([0.567, 0.646, 0.775, 0.904, 1.075]), significance_level=array([15. , 10. ,  5. ,  2.5,  1. ]))"
      ]
     },
     "execution_count": 10,
     "metadata": {},
     "output_type": "execute_result"
    }
   ],
   "source": [
    "anderson(Model_6_residuals)"
   ]
  },
  {
   "cell_type": "markdown",
   "id": "08044d6b",
   "metadata": {},
   "source": [
    "# Stationarity Test (Augmented Dickey Fuller Test)"
   ]
  },
  {
   "cell_type": "code",
   "execution_count": 31,
   "id": "27f8bbf0",
   "metadata": {},
   "outputs": [],
   "source": [
    "from statsmodels.tsa.stattools import adfuller"
   ]
  },
  {
   "cell_type": "code",
   "execution_count": 32,
   "id": "fb2f413f",
   "metadata": {},
   "outputs": [
    {
     "data": {
      "text/plain": [
       "(-7.688694884746486,\n",
       " 1.4384722927367352e-11,\n",
       " 4,\n",
       " 247,\n",
       " {'1%': -3.457105309726321,\n",
       "  '5%': -2.873313676101283,\n",
       "  '10%': -2.5730443824681606},\n",
       " -1874.1571644859491)"
      ]
     },
     "execution_count": 32,
     "metadata": {},
     "output_type": "execute_result"
    }
   ],
   "source": [
    "adfuller(Model_1_residuals)"
   ]
  },
  {
   "cell_type": "code",
   "execution_count": 33,
   "id": "f572d10b",
   "metadata": {},
   "outputs": [
    {
     "data": {
      "text/plain": [
       "(-8.043828226908406,\n",
       " 1.8168812256499967e-12,\n",
       " 1,\n",
       " 250,\n",
       " {'1%': -3.456780859712, '5%': -2.8731715065600003, '10%': -2.572968544},\n",
       " -1991.815759739422)"
      ]
     },
     "execution_count": 33,
     "metadata": {},
     "output_type": "execute_result"
    }
   ],
   "source": [
    "adfuller(Model_2_residuals)"
   ]
  },
  {
   "cell_type": "code",
   "execution_count": 34,
   "id": "68874c66",
   "metadata": {},
   "outputs": [
    {
     "data": {
      "text/plain": [
       "(-6.197696490640626,\n",
       " 5.9101611683577784e-08,\n",
       " 2,\n",
       " 249,\n",
       " {'1%': -3.4568881317725864,\n",
       "  '5%': -2.8732185133016057,\n",
       "  '10%': -2.5729936189738876},\n",
       " -1872.1864523660756)"
      ]
     },
     "execution_count": 34,
     "metadata": {},
     "output_type": "execute_result"
    }
   ],
   "source": [
    "adfuller(Model_3_residuals)"
   ]
  },
  {
   "cell_type": "code",
   "execution_count": 35,
   "id": "4536d0b6",
   "metadata": {},
   "outputs": [
    {
     "data": {
      "text/plain": [
       "(-15.13830462396673,\n",
       " 7.069961546679525e-28,\n",
       " 1,\n",
       " 250,\n",
       " {'1%': -3.456780859712, '5%': -2.8731715065600003, '10%': -2.572968544},\n",
       " -1854.5230232753274)"
      ]
     },
     "execution_count": 35,
     "metadata": {},
     "output_type": "execute_result"
    }
   ],
   "source": [
    "adfuller(Model_4_residuals)"
   ]
  },
  {
   "cell_type": "code",
   "execution_count": 36,
   "id": "5539b3d6",
   "metadata": {},
   "outputs": [
    {
     "data": {
      "text/plain": [
       "(-12.341065864704381,\n",
       " 6.117067848978188e-23,\n",
       " 2,\n",
       " 249,\n",
       " {'1%': -3.4568881317725864,\n",
       "  '5%': -2.8732185133016057,\n",
       "  '10%': -2.5729936189738876},\n",
       " -1844.1276787219526)"
      ]
     },
     "execution_count": 36,
     "metadata": {},
     "output_type": "execute_result"
    }
   ],
   "source": [
    "adfuller(Model_5_residuals)"
   ]
  },
  {
   "cell_type": "code",
   "execution_count": 37,
   "id": "524b968b",
   "metadata": {
    "scrolled": true
   },
   "outputs": [
    {
     "data": {
      "text/plain": [
       "(-7.4446928270120845,\n",
       " 5.880281698879843e-11,\n",
       " 4,\n",
       " 247,\n",
       " {'1%': -3.457105309726321,\n",
       "  '5%': -2.873313676101283,\n",
       "  '10%': -2.5730443824681606},\n",
       " -1871.3720612518368)"
      ]
     },
     "execution_count": 37,
     "metadata": {},
     "output_type": "execute_result"
    }
   ],
   "source": [
    "adfuller(Model_6_residuals)"
   ]
  },
  {
   "cell_type": "markdown",
   "id": "b4681e84",
   "metadata": {},
   "source": [
    "# Autocorrelation Test (Breusch Godfrey test)"
   ]
  },
  {
   "cell_type": "code",
   "execution_count": 38,
   "id": "9f4f8250",
   "metadata": {},
   "outputs": [
    {
     "name": "stdout",
     "output_type": "stream",
     "text": [
      "(245.95472524627246, 4.0550664143063055e-51, 8039.009023211896, 6.6056118732322465e-227)\n"
     ]
    },
    {
     "name": "stderr",
     "output_type": "stream",
     "text": [
      "C:\\Users\\GobatoH\\Anaconda3\\lib\\site-packages\\statsmodels\\base\\model.py:1871: ValueWarning: covariance of constraints does not have full rank. The number of constraints is 5, but rank is 2\n",
      "  warnings.warn('covariance of constraints does not have full '\n"
     ]
    }
   ],
   "source": [
    "import statsmodels.api as sm\n",
    "y = Model_1_residuals\n",
    "x = Model_1_residuals[:len(Model_1_residuals)-1]\n",
    "for i in range(len(y)-1):\n",
    "    y[i]=y[i+1]\n",
    "y=y[:len(Model_1_residuals)-1]\n",
    "x = sm.add_constant(x)\n",
    "model = sm.OLS(y, x).fit()\n",
    "import statsmodels.stats.diagnostic as dg\n",
    "print(dg.acorr_breusch_godfrey(model, nlags=5))"
   ]
  },
  {
   "cell_type": "code",
   "execution_count": 39,
   "id": "74ffaa41",
   "metadata": {},
   "outputs": [
    {
     "name": "stdout",
     "output_type": "stream",
     "text": [
      "(240.16992709979854, 7.059487470007656e-50, 12264.535572327673, 1.8425340081160016e-249)\n"
     ]
    },
    {
     "name": "stderr",
     "output_type": "stream",
     "text": [
      "C:\\Users\\GobatoH\\Anaconda3\\lib\\site-packages\\statsmodels\\base\\model.py:1871: ValueWarning: covariance of constraints does not have full rank. The number of constraints is 5, but rank is 2\n",
      "  warnings.warn('covariance of constraints does not have full '\n"
     ]
    }
   ],
   "source": [
    "import statsmodels.api as sm\n",
    "y = Model_2_residuals\n",
    "x = Model_2_residuals[:len(Model_1_residuals)-1]\n",
    "for i in range(len(y)-1):\n",
    "    y[i]=y[i+1]\n",
    "y=y[:len(Model_1_residuals)-1]\n",
    "x = sm.add_constant(x)\n",
    "model = sm.OLS(y, x).fit()\n",
    "import statsmodels.stats.diagnostic as dg\n",
    "print(dg.acorr_breusch_godfrey(model, nlags=5))"
   ]
  },
  {
   "cell_type": "code",
   "execution_count": 40,
   "id": "8b7a6de5",
   "metadata": {},
   "outputs": [
    {
     "name": "stdout",
     "output_type": "stream",
     "text": [
      "(248.22225080926438, 1.322943105591986e-51, 13570.356421988457, 7.033598368425006e-255)\n"
     ]
    },
    {
     "name": "stderr",
     "output_type": "stream",
     "text": [
      "C:\\Users\\GobatoH\\Anaconda3\\lib\\site-packages\\statsmodels\\base\\model.py:1871: ValueWarning: covariance of constraints does not have full rank. The number of constraints is 5, but rank is 2\n",
      "  warnings.warn('covariance of constraints does not have full '\n"
     ]
    }
   ],
   "source": [
    "import statsmodels.api as sm\n",
    "y = Model_3_residuals\n",
    "x = Model_3_residuals[:len(Model_1_residuals)-1]\n",
    "for i in range(len(y)-1):\n",
    "    y[i]=y[i+1]\n",
    "y=y[:len(Model_1_residuals)-1]\n",
    "x = sm.add_constant(x)\n",
    "model = sm.OLS(y, x).fit()\n",
    "import statsmodels.stats.diagnostic as dg\n",
    "print(dg.acorr_breusch_godfrey(model, nlags=5))"
   ]
  },
  {
   "cell_type": "code",
   "execution_count": 41,
   "id": "2b220205",
   "metadata": {},
   "outputs": [
    {
     "name": "stdout",
     "output_type": "stream",
     "text": [
      "(19.353744665101562, 0.0016512212466260803, 227.74414553446877, 5.841618453931232e-57)\n"
     ]
    },
    {
     "name": "stderr",
     "output_type": "stream",
     "text": [
      "C:\\Users\\GobatoH\\Anaconda3\\lib\\site-packages\\statsmodels\\base\\model.py:1871: ValueWarning: covariance of constraints does not have full rank. The number of constraints is 5, but rank is 2\n",
      "  warnings.warn('covariance of constraints does not have full '\n"
     ]
    }
   ],
   "source": [
    "import statsmodels.api as sm\n",
    "y = Model_4_residuals\n",
    "x = Model_4_residuals[:len(Model_1_residuals)-1]\n",
    "for i in range(len(y)-1):\n",
    "    y[i]=y[i+1]\n",
    "y=y[:len(Model_1_residuals)-1]\n",
    "x = sm.add_constant(x)\n",
    "model = sm.OLS(y, x).fit()\n",
    "import statsmodels.stats.diagnostic as dg\n",
    "print(dg.acorr_breusch_godfrey(model, nlags=5))"
   ]
  },
  {
   "cell_type": "code",
   "execution_count": 42,
   "id": "9d37e4d9",
   "metadata": {},
   "outputs": [
    {
     "name": "stdout",
     "output_type": "stream",
     "text": [
      "(9.45358358295872, 0.09228354024419408, 184.95908871544088, 5.867871381973293e-50)\n"
     ]
    },
    {
     "name": "stderr",
     "output_type": "stream",
     "text": [
      "C:\\Users\\GobatoH\\Anaconda3\\lib\\site-packages\\statsmodels\\base\\model.py:1871: ValueWarning: covariance of constraints does not have full rank. The number of constraints is 5, but rank is 2\n",
      "  warnings.warn('covariance of constraints does not have full '\n"
     ]
    }
   ],
   "source": [
    "import statsmodels.api as sm\n",
    "y = Model_5_residuals\n",
    "x = Model_5_residuals[:len(Model_1_residuals)-1]\n",
    "for i in range(len(y)-1):\n",
    "    y[i]=y[i+1]\n",
    "y=y[:len(Model_1_residuals)-1]\n",
    "x = sm.add_constant(x)\n",
    "model = sm.OLS(y, x).fit()\n",
    "import statsmodels.stats.diagnostic as dg\n",
    "print(dg.acorr_breusch_godfrey(model, nlags=5))"
   ]
  },
  {
   "cell_type": "code",
   "execution_count": 43,
   "id": "148e6108",
   "metadata": {},
   "outputs": [
    {
     "name": "stdout",
     "output_type": "stream",
     "text": [
      "(243.7900782158625, 1.181226622873527e-50, 6087.503629025072, 3.9015529690620666e-212)\n"
     ]
    },
    {
     "name": "stderr",
     "output_type": "stream",
     "text": [
      "C:\\Users\\GobatoH\\Anaconda3\\lib\\site-packages\\statsmodels\\base\\model.py:1871: ValueWarning: covariance of constraints does not have full rank. The number of constraints is 5, but rank is 2\n",
      "  warnings.warn('covariance of constraints does not have full '\n"
     ]
    }
   ],
   "source": [
    "import statsmodels.api as sm\n",
    "y = Model_6_residuals\n",
    "x = Model_6_residuals[:len(Model_1_residuals)-1]\n",
    "for i in range(len(y)-1):\n",
    "    y[i]=y[i+1]\n",
    "y=y[:len(Model_1_residuals)-1]\n",
    "x = sm.add_constant(x)\n",
    "model = sm.OLS(y, x).fit()\n",
    "import statsmodels.stats.diagnostic as dg\n",
    "print(dg.acorr_breusch_godfrey(model, nlags=5))"
   ]
  },
  {
   "cell_type": "markdown",
   "id": "c6a1b3c7",
   "metadata": {},
   "source": [
    "# Diebold-Mariano Test"
   ]
  },
  {
   "cell_type": "code",
   "execution_count": 11,
   "id": "66c7c9ac",
   "metadata": {},
   "outputs": [],
   "source": [
    "def dm_test(actual_lst, pred1_lst, pred2_lst, h = 1, crit=\"MSE\", power = 2):\n",
    "    # Routine for checking errors\n",
    "    def error_check():\n",
    "        rt = 0\n",
    "        msg = \"\"\n",
    "        # Check if h is an integer\n",
    "        if (not isinstance(h, int)):\n",
    "            rt = -1\n",
    "            msg = \"The type of the number of steps ahead (h) is not an integer.\"\n",
    "            return (rt,msg)\n",
    "        # Check the range of h\n",
    "        if (h < 1):\n",
    "            rt = -1\n",
    "            msg = \"The number of steps ahead (h) is not large enough.\"\n",
    "            return (rt,msg)\n",
    "        len_act = len(actual_lst)\n",
    "        len_p1  = len(pred1_lst)\n",
    "        len_p2  = len(pred2_lst)\n",
    "        # Check if lengths of actual values and predicted values are equal\n",
    "        if (len_act != len_p1 or len_p1 != len_p2 or len_act != len_p2):\n",
    "            rt = -1\n",
    "            msg = \"Lengths of actual_lst, pred1_lst and pred2_lst do not match.\"\n",
    "            return (rt,msg)\n",
    "        # Check range of h\n",
    "        if (h >= len_act):\n",
    "            rt = -1\n",
    "            msg = \"The number of steps ahead is too large.\"\n",
    "            return (rt,msg)\n",
    "        # Check if criterion supported\n",
    "        if (crit != \"MSE\" and crit != \"MAPE\" and crit != \"MAD\" and crit != \"poly\"):\n",
    "            rt = -1\n",
    "            msg = \"The criterion is not supported.\"\n",
    "            return (rt,msg)  \n",
    "        # Check if every value of the input lists are numerical values\n",
    "        from re import compile as re_compile\n",
    "        comp = re_compile(\"^\\d+?\\.\\d+?$\")  \n",
    "        def compiled_regex(s):\n",
    "            \"\"\" Returns True is string is a number. \"\"\"\n",
    "            if comp.match(s) is None:\n",
    "                return s.isdigit()\n",
    "            return True\n",
    "        for actual, pred1, pred2 in zip(actual_lst, pred1_lst, pred2_lst):\n",
    "            is_actual_ok = compiled_regex(str(abs(actual)))\n",
    "            is_pred1_ok = compiled_regex(str(abs(pred1)))\n",
    "            is_pred2_ok = compiled_regex(str(abs(pred2)))\n",
    "            if (not (is_actual_ok and is_pred1_ok and is_pred2_ok)):  \n",
    "                msg = \"An element in the actual_lst, pred1_lst or pred2_lst is not numeric.\"\n",
    "                rt = -1\n",
    "                return (rt,msg)\n",
    "        return (rt,msg)\n",
    "    \n",
    "    # Error check\n",
    "    error_code = error_check()\n",
    "    # Raise error if cannot pass error check\n",
    "    if (error_code[0] == -1):\n",
    "        raise SyntaxError(error_code[1])\n",
    "        return\n",
    "    # Import libraries\n",
    "    from scipy.stats import t\n",
    "    import collections\n",
    "    import pandas as pd\n",
    "    import numpy as np\n",
    "    \n",
    "    # Initialise lists\n",
    "    e1_lst = []\n",
    "    e2_lst = []\n",
    "    d_lst  = []\n",
    "    \n",
    "    # convert every value of the lists into real values\n",
    "    actual_lst = pd.Series(actual_lst).apply(lambda x: float(x)).tolist()\n",
    "    pred1_lst = pd.Series(pred1_lst).apply(lambda x: float(x)).tolist()\n",
    "    pred2_lst = pd.Series(pred2_lst).apply(lambda x: float(x)).tolist()\n",
    "    \n",
    "    # Length of lists (as real numbers)\n",
    "    T = float(len(actual_lst))\n",
    "    \n",
    "    # construct d according to crit\n",
    "    if (crit == \"MSE\"):\n",
    "        for actual,p1,p2 in zip(actual_lst,pred1_lst,pred2_lst):\n",
    "            e1_lst.append((actual - p1)**2)\n",
    "            e2_lst.append((actual - p2)**2)\n",
    "        for e1, e2 in zip(e1_lst, e2_lst):\n",
    "            d_lst.append(e1 - e2)\n",
    "    elif (crit == \"MAD\"):\n",
    "        for actual,p1,p2 in zip(actual_lst,pred1_lst,pred2_lst):\n",
    "            e1_lst.append(abs(actual - p1))\n",
    "            e2_lst.append(abs(actual - p2))\n",
    "        for e1, e2 in zip(e1_lst, e2_lst):\n",
    "            d_lst.append(e1 - e2)\n",
    "    elif (crit == \"MAPE\"):\n",
    "        for actual,p1,p2 in zip(actual_lst,pred1_lst,pred2_lst):\n",
    "            e1_lst.append(abs((actual - p1)/actual))\n",
    "            e2_lst.append(abs((actual - p2)/actual))\n",
    "        for e1, e2 in zip(e1_lst, e2_lst):\n",
    "            d_lst.append(e1 - e2)\n",
    "    elif (crit == \"poly\"):\n",
    "        for actual,p1,p2 in zip(actual_lst,pred1_lst,pred2_lst):\n",
    "            e1_lst.append(((actual - p1))**(power))\n",
    "            e2_lst.append(((actual - p2))**(power))\n",
    "        for e1, e2 in zip(e1_lst, e2_lst):\n",
    "            d_lst.append(e1 - e2)    \n",
    "    \n",
    "    # Mean of d        \n",
    "    mean_d = pd.Series(d_lst).mean()\n",
    "    \n",
    "    # Find autocovariance and construct DM test statistics\n",
    "    def autocovariance(Xi, N, k, Xs):\n",
    "        autoCov = 0\n",
    "        T = float(N)\n",
    "        for i in np.arange(0, N-k):\n",
    "              autoCov += ((Xi[i+k])-Xs)*(Xi[i]-Xs)\n",
    "        return (1/(T))*autoCov\n",
    "    gamma = []\n",
    "    for lag in range(0,h):\n",
    "        gamma.append(autocovariance(d_lst,len(d_lst),lag,mean_d)) # 0, 1, 2\n",
    "    V_d = (gamma[0] + 2*sum(gamma[1:]))/T\n",
    "    DM_stat=V_d**(-0.5)*mean_d\n",
    "    harvey_adj=((T+1-2*h+h*(h-1)/T)/T)**(0.5)\n",
    "    DM_stat = harvey_adj*DM_stat\n",
    "    # Find p-value\n",
    "    p_value = 2*t.cdf(-abs(DM_stat), df = T - 1)\n",
    "    \n",
    "    # Construct named tuple for return\n",
    "    dm_return = collections.namedtuple('dm_return', 'DM p_value')\n",
    "    \n",
    "    rt = dm_return(DM = DM_stat, p_value = p_value)\n",
    "    \n",
    "    return rt"
   ]
  },
  {
   "cell_type": "code",
   "execution_count": 12,
   "id": "7896b794",
   "metadata": {},
   "outputs": [
    {
     "data": {
      "text/plain": [
       "dm_return(DM=4.090391230214643, p_value=5.8050749888568926e-05)"
      ]
     },
     "execution_count": 12,
     "metadata": {},
     "output_type": "execute_result"
    }
   ],
   "source": [
    "dm_test(df[\"Actuals\"], df[\"Forecast Model 1\"], df[\"Forecast Model 2\"])"
   ]
  },
  {
   "cell_type": "code",
   "execution_count": 13,
   "id": "41a6f50b",
   "metadata": {},
   "outputs": [
    {
     "data": {
      "text/plain": [
       "dm_return(DM=-0.5487088743322726, p_value=0.5836929998250954)"
      ]
     },
     "execution_count": 13,
     "metadata": {},
     "output_type": "execute_result"
    }
   ],
   "source": [
    "dm_test(df[\"Actuals\"], df[\"Forecast Model 1\"], df[\"Forecast Model 3\"])"
   ]
  },
  {
   "cell_type": "code",
   "execution_count": 14,
   "id": "6743fbab",
   "metadata": {},
   "outputs": [
    {
     "data": {
      "text/plain": [
       "dm_return(DM=-2.829112019682123, p_value=0.005044900073570488)"
      ]
     },
     "execution_count": 14,
     "metadata": {},
     "output_type": "execute_result"
    }
   ],
   "source": [
    "dm_test(df[\"Actuals\"], df[\"Forecast Model 1\"], df[\"Forecast Model 4\"])"
   ]
  },
  {
   "cell_type": "code",
   "execution_count": 15,
   "id": "d21f7953",
   "metadata": {},
   "outputs": [
    {
     "data": {
      "text/plain": [
       "dm_return(DM=-2.071042806897399, p_value=0.03937695171867114)"
      ]
     },
     "execution_count": 15,
     "metadata": {},
     "output_type": "execute_result"
    }
   ],
   "source": [
    "dm_test(df[\"Actuals\"], df[\"Forecast Model 1\"], df[\"Forecast Model 5\"])"
   ]
  },
  {
   "cell_type": "code",
   "execution_count": 16,
   "id": "d7c0df60",
   "metadata": {},
   "outputs": [
    {
     "data": {
      "text/plain": [
       "dm_return(DM=-0.6781940614515797, p_value=0.4982733983276697)"
      ]
     },
     "execution_count": 16,
     "metadata": {},
     "output_type": "execute_result"
    }
   ],
   "source": [
    "dm_test(df[\"Actuals\"], df[\"Forecast Model 1\"], df[\"Forecast Model 6\"])"
   ]
  },
  {
   "cell_type": "code",
   "execution_count": 17,
   "id": "0aa6b574",
   "metadata": {},
   "outputs": [
    {
     "data": {
      "text/plain": [
       "dm_return(DM=-3.4580657773805106, p_value=0.0006389477690012973)"
      ]
     },
     "execution_count": 17,
     "metadata": {},
     "output_type": "execute_result"
    }
   ],
   "source": [
    "dm_test(df[\"Actuals\"], df[\"Forecast Model 2\"], df[\"Forecast Model 3\"])"
   ]
  },
  {
   "cell_type": "code",
   "execution_count": 18,
   "id": "190cd112",
   "metadata": {},
   "outputs": [
    {
     "data": {
      "text/plain": [
       "dm_return(DM=-4.596873539274395, p_value=6.800278712138355e-06)"
      ]
     },
     "execution_count": 18,
     "metadata": {},
     "output_type": "execute_result"
    }
   ],
   "source": [
    "dm_test(df[\"Actuals\"], df[\"Forecast Model 2\"], df[\"Forecast Model 4\"])"
   ]
  },
  {
   "cell_type": "code",
   "execution_count": 19,
   "id": "16b5c01a",
   "metadata": {},
   "outputs": [
    {
     "data": {
      "text/plain": [
       "dm_return(DM=-3.875329801020497, p_value=0.00013597133545369342)"
      ]
     },
     "execution_count": 19,
     "metadata": {},
     "output_type": "execute_result"
    }
   ],
   "source": [
    "dm_test(df[\"Actuals\"], df[\"Forecast Model 2\"], df[\"Forecast Model 5\"])"
   ]
  },
  {
   "cell_type": "code",
   "execution_count": 20,
   "id": "885389e0",
   "metadata": {},
   "outputs": [
    {
     "data": {
      "text/plain": [
       "dm_return(DM=-4.086507166711713, p_value=5.896874522888217e-05)"
      ]
     },
     "execution_count": 20,
     "metadata": {},
     "output_type": "execute_result"
    }
   ],
   "source": [
    "dm_test(df[\"Actuals\"], df[\"Forecast Model 2\"], df[\"Forecast Model 6\"])"
   ]
  },
  {
   "cell_type": "code",
   "execution_count": 21,
   "id": "c41b6493",
   "metadata": {},
   "outputs": [
    {
     "data": {
      "text/plain": [
       "dm_return(DM=-2.0155412563856645, p_value=0.04491379931146155)"
      ]
     },
     "execution_count": 21,
     "metadata": {},
     "output_type": "execute_result"
    }
   ],
   "source": [
    "dm_test(df[\"Actuals\"], df[\"Forecast Model 3\"], df[\"Forecast Model 4\"])"
   ]
  },
  {
   "cell_type": "code",
   "execution_count": 22,
   "id": "9afd53ff",
   "metadata": {},
   "outputs": [
    {
     "data": {
      "text/plain": [
       "dm_return(DM=-1.6514145986642967, p_value=0.09990446250541617)"
      ]
     },
     "execution_count": 22,
     "metadata": {},
     "output_type": "execute_result"
    }
   ],
   "source": [
    "dm_test(df[\"Actuals\"], df[\"Forecast Model 3\"], df[\"Forecast Model 5\"])"
   ]
  },
  {
   "cell_type": "code",
   "execution_count": 23,
   "id": "73cf60f6",
   "metadata": {},
   "outputs": [
    {
     "data": {
      "text/plain": [
       "dm_return(DM=0.30396848396718906, p_value=0.7614037381909661)"
      ]
     },
     "execution_count": 23,
     "metadata": {},
     "output_type": "execute_result"
    }
   ],
   "source": [
    "dm_test(df[\"Actuals\"], df[\"Forecast Model 3\"], df[\"Forecast Model 6\"])"
   ]
  },
  {
   "cell_type": "code",
   "execution_count": 24,
   "id": "9dd98a53",
   "metadata": {},
   "outputs": [
    {
     "data": {
      "text/plain": [
       "dm_return(DM=-0.19337847369137132, p_value=0.8468189649921118)"
      ]
     },
     "execution_count": 24,
     "metadata": {},
     "output_type": "execute_result"
    }
   ],
   "source": [
    "dm_test(df[\"Actuals\"], df[\"Forecast Model 4\"], df[\"Forecast Model 5\"])"
   ]
  },
  {
   "cell_type": "code",
   "execution_count": 25,
   "id": "e94590a6",
   "metadata": {},
   "outputs": [
    {
     "data": {
      "text/plain": [
       "dm_return(DM=2.4115579636432956, p_value=0.016603178432254492)"
      ]
     },
     "execution_count": 25,
     "metadata": {},
     "output_type": "execute_result"
    }
   ],
   "source": [
    "dm_test(df[\"Actuals\"], df[\"Forecast Model 4\"], df[\"Forecast Model 6\"])"
   ]
  },
  {
   "cell_type": "code",
   "execution_count": 26,
   "id": "bc97af31",
   "metadata": {},
   "outputs": [
    {
     "data": {
      "text/plain": [
       "dm_return(DM=1.8456748667115412, p_value=0.0661170832451839)"
      ]
     },
     "execution_count": 26,
     "metadata": {},
     "output_type": "execute_result"
    }
   ],
   "source": [
    "dm_test(df[\"Actuals\"], df[\"Forecast Model 5\"], df[\"Forecast Model 6\"])"
   ]
  },
  {
   "cell_type": "code",
   "execution_count": null,
   "id": "610ace7a",
   "metadata": {},
   "outputs": [],
   "source": []
  }
 ],
 "metadata": {
  "kernelspec": {
   "display_name": "Python 3 (ipykernel)",
   "language": "python",
   "name": "python3"
  },
  "language_info": {
   "codemirror_mode": {
    "name": "ipython",
    "version": 3
   },
   "file_extension": ".py",
   "mimetype": "text/x-python",
   "name": "python",
   "nbconvert_exporter": "python",
   "pygments_lexer": "ipython3",
   "version": "3.9.12"
  }
 },
 "nbformat": 4,
 "nbformat_minor": 5
}
